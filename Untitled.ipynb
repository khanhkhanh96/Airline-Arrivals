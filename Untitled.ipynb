{
 "cells": [
  {
   "cell_type": "code",
   "execution_count": 1,
   "metadata": {
    "collapsed": true
   },
   "outputs": [],
   "source": [
    "import pandas as pd\n",
    "import numpy as np\n",
    "import matplotlib.pyplot as plt\n",
    "from sklearn import linear_model\n",
    "from sklearn.model_selection import train_test_split\n",
    "from sklearn.metrics import confusion_matrix, precision_recall_fscore_support, accuracy_score"
   ]
  },
  {
   "cell_type": "code",
   "execution_count": 2,
   "metadata": {
    "scrolled": true
   },
   "outputs": [
    {
     "data": {
      "text/html": [
       "<div>\n",
       "<style>\n",
       "    .dataframe thead tr:only-child th {\n",
       "        text-align: right;\n",
       "    }\n",
       "\n",
       "    .dataframe thead th {\n",
       "        text-align: left;\n",
       "    }\n",
       "\n",
       "    .dataframe tbody tr th {\n",
       "        vertical-align: top;\n",
       "    }\n",
       "</style>\n",
       "<table border=\"1\" class=\"dataframe\">\n",
       "  <thead>\n",
       "    <tr style=\"text-align: right;\">\n",
       "      <th></th>\n",
       "      <th>Year</th>\n",
       "      <th>Month</th>\n",
       "      <th>DayofMonth</th>\n",
       "      <th>DayOfWeek</th>\n",
       "      <th>DepTime</th>\n",
       "      <th>CRSDepTime</th>\n",
       "      <th>ArrTime</th>\n",
       "      <th>CRSArrTime</th>\n",
       "      <th>UniqueCarrier</th>\n",
       "      <th>FlightNum</th>\n",
       "      <th>TailNum</th>\n",
       "      <th>ActualElapsedTime</th>\n",
       "      <th>CRSElapsedTime</th>\n",
       "      <th>AirTime</th>\n",
       "      <th>ArrDelay</th>\n",
       "      <th>DepDelay</th>\n",
       "      <th>Origin</th>\n",
       "      <th>Dest</th>\n",
       "      <th>Distance</th>\n",
       "      <th>TaxiIn</th>\n",
       "      <th>TaxiOut</th>\n",
       "      <th>Cancelled</th>\n",
       "      <th>CancellationCode</th>\n",
       "      <th>Diverted</th>\n",
       "      <th>CarrierDelay</th>\n",
       "      <th>WeatherDelay</th>\n",
       "      <th>NASDelay</th>\n",
       "      <th>SecurityDelay</th>\n",
       "      <th>LateAircraftDelay</th>\n",
       "    </tr>\n",
       "  </thead>\n",
       "  <tbody>\n",
       "    <tr>\n",
       "      <th>0</th>\n",
       "      <td>2008</td>\n",
       "      <td>3</td>\n",
       "      <td>28</td>\n",
       "      <td>5</td>\n",
       "      <td>920.0</td>\n",
       "      <td>925</td>\n",
       "      <td>1159.0</td>\n",
       "      <td>1218</td>\n",
       "      <td>CO</td>\n",
       "      <td>1811</td>\n",
       "      <td>N14336</td>\n",
       "      <td>159.0</td>\n",
       "      <td>173.0</td>\n",
       "      <td>145.0</td>\n",
       "      <td>-19.0</td>\n",
       "      <td>-5.0</td>\n",
       "      <td>CLE</td>\n",
       "      <td>RSW</td>\n",
       "      <td>1025</td>\n",
       "      <td>3.0</td>\n",
       "      <td>11.0</td>\n",
       "      <td>0</td>\n",
       "      <td>NaN</td>\n",
       "      <td>0</td>\n",
       "      <td>NaN</td>\n",
       "      <td>NaN</td>\n",
       "      <td>NaN</td>\n",
       "      <td>NaN</td>\n",
       "      <td>NaN</td>\n",
       "    </tr>\n",
       "    <tr>\n",
       "      <th>1</th>\n",
       "      <td>2008</td>\n",
       "      <td>6</td>\n",
       "      <td>26</td>\n",
       "      <td>4</td>\n",
       "      <td>1005.0</td>\n",
       "      <td>1005</td>\n",
       "      <td>1142.0</td>\n",
       "      <td>1155</td>\n",
       "      <td>WN</td>\n",
       "      <td>461</td>\n",
       "      <td>N477WN</td>\n",
       "      <td>157.0</td>\n",
       "      <td>170.0</td>\n",
       "      <td>137.0</td>\n",
       "      <td>-13.0</td>\n",
       "      <td>0.0</td>\n",
       "      <td>BNA</td>\n",
       "      <td>DEN</td>\n",
       "      <td>1013</td>\n",
       "      <td>7.0</td>\n",
       "      <td>13.0</td>\n",
       "      <td>0</td>\n",
       "      <td>NaN</td>\n",
       "      <td>0</td>\n",
       "      <td>NaN</td>\n",
       "      <td>NaN</td>\n",
       "      <td>NaN</td>\n",
       "      <td>NaN</td>\n",
       "      <td>NaN</td>\n",
       "    </tr>\n",
       "    <tr>\n",
       "      <th>2</th>\n",
       "      <td>2008</td>\n",
       "      <td>2</td>\n",
       "      <td>15</td>\n",
       "      <td>5</td>\n",
       "      <td>2034.0</td>\n",
       "      <td>1959</td>\n",
       "      <td>2133.0</td>\n",
       "      <td>2103</td>\n",
       "      <td>EV</td>\n",
       "      <td>4601</td>\n",
       "      <td>N935EV</td>\n",
       "      <td>59.0</td>\n",
       "      <td>64.0</td>\n",
       "      <td>36.0</td>\n",
       "      <td>30.0</td>\n",
       "      <td>35.0</td>\n",
       "      <td>ATL</td>\n",
       "      <td>BQK</td>\n",
       "      <td>238</td>\n",
       "      <td>4.0</td>\n",
       "      <td>19.0</td>\n",
       "      <td>0</td>\n",
       "      <td>NaN</td>\n",
       "      <td>0</td>\n",
       "      <td>0.0</td>\n",
       "      <td>0.0</td>\n",
       "      <td>30.0</td>\n",
       "      <td>0.0</td>\n",
       "      <td>0.0</td>\n",
       "    </tr>\n",
       "    <tr>\n",
       "      <th>3</th>\n",
       "      <td>2008</td>\n",
       "      <td>3</td>\n",
       "      <td>10</td>\n",
       "      <td>1</td>\n",
       "      <td>1003.0</td>\n",
       "      <td>1010</td>\n",
       "      <td>1307.0</td>\n",
       "      <td>1326</td>\n",
       "      <td>EV</td>\n",
       "      <td>4684</td>\n",
       "      <td>N889AS</td>\n",
       "      <td>124.0</td>\n",
       "      <td>136.0</td>\n",
       "      <td>109.0</td>\n",
       "      <td>-19.0</td>\n",
       "      <td>-7.0</td>\n",
       "      <td>GRB</td>\n",
       "      <td>ATL</td>\n",
       "      <td>774</td>\n",
       "      <td>6.0</td>\n",
       "      <td>9.0</td>\n",
       "      <td>0</td>\n",
       "      <td>NaN</td>\n",
       "      <td>0</td>\n",
       "      <td>NaN</td>\n",
       "      <td>NaN</td>\n",
       "      <td>NaN</td>\n",
       "      <td>NaN</td>\n",
       "      <td>NaN</td>\n",
       "    </tr>\n",
       "    <tr>\n",
       "      <th>4</th>\n",
       "      <td>2008</td>\n",
       "      <td>12</td>\n",
       "      <td>8</td>\n",
       "      <td>1</td>\n",
       "      <td>1131.0</td>\n",
       "      <td>1125</td>\n",
       "      <td>1321.0</td>\n",
       "      <td>1330</td>\n",
       "      <td>WN</td>\n",
       "      <td>1236</td>\n",
       "      <td>N312SW</td>\n",
       "      <td>110.0</td>\n",
       "      <td>125.0</td>\n",
       "      <td>97.0</td>\n",
       "      <td>-9.0</td>\n",
       "      <td>6.0</td>\n",
       "      <td>BWI</td>\n",
       "      <td>JAX</td>\n",
       "      <td>663</td>\n",
       "      <td>5.0</td>\n",
       "      <td>8.0</td>\n",
       "      <td>0</td>\n",
       "      <td>NaN</td>\n",
       "      <td>0</td>\n",
       "      <td>NaN</td>\n",
       "      <td>NaN</td>\n",
       "      <td>NaN</td>\n",
       "      <td>NaN</td>\n",
       "      <td>NaN</td>\n",
       "    </tr>\n",
       "  </tbody>\n",
       "</table>\n",
       "</div>"
      ],
      "text/plain": [
       "   Year  Month  DayofMonth  DayOfWeek  DepTime  CRSDepTime  ArrTime  \\\n",
       "0  2008      3          28          5    920.0         925   1159.0   \n",
       "1  2008      6          26          4   1005.0        1005   1142.0   \n",
       "2  2008      2          15          5   2034.0        1959   2133.0   \n",
       "3  2008      3          10          1   1003.0        1010   1307.0   \n",
       "4  2008     12           8          1   1131.0        1125   1321.0   \n",
       "\n",
       "   CRSArrTime UniqueCarrier  FlightNum TailNum  ActualElapsedTime  \\\n",
       "0        1218            CO       1811  N14336              159.0   \n",
       "1        1155            WN        461  N477WN              157.0   \n",
       "2        2103            EV       4601  N935EV               59.0   \n",
       "3        1326            EV       4684  N889AS              124.0   \n",
       "4        1330            WN       1236  N312SW              110.0   \n",
       "\n",
       "   CRSElapsedTime  AirTime  ArrDelay  DepDelay Origin Dest  Distance  TaxiIn  \\\n",
       "0           173.0    145.0     -19.0      -5.0    CLE  RSW      1025     3.0   \n",
       "1           170.0    137.0     -13.0       0.0    BNA  DEN      1013     7.0   \n",
       "2            64.0     36.0      30.0      35.0    ATL  BQK       238     4.0   \n",
       "3           136.0    109.0     -19.0      -7.0    GRB  ATL       774     6.0   \n",
       "4           125.0     97.0      -9.0       6.0    BWI  JAX       663     5.0   \n",
       "\n",
       "   TaxiOut  Cancelled CancellationCode  Diverted  CarrierDelay  WeatherDelay  \\\n",
       "0     11.0          0              NaN         0           NaN           NaN   \n",
       "1     13.0          0              NaN         0           NaN           NaN   \n",
       "2     19.0          0              NaN         0           0.0           0.0   \n",
       "3      9.0          0              NaN         0           NaN           NaN   \n",
       "4      8.0          0              NaN         0           NaN           NaN   \n",
       "\n",
       "   NASDelay  SecurityDelay  LateAircraftDelay  \n",
       "0       NaN            NaN                NaN  \n",
       "1       NaN            NaN                NaN  \n",
       "2      30.0            0.0                0.0  \n",
       "3       NaN            NaN                NaN  \n",
       "4       NaN            NaN                NaN  "
      ]
     },
     "execution_count": 2,
     "metadata": {},
     "output_type": "execute_result"
    }
   ],
   "source": [
    "data = pd.read_csv(\"datasplited.csv\")\n",
    "pd.set_option('display.max_columns', 500)\n",
    "data.drop(data[data.ArrTime.isnull()].index, inplace=True) #xóa những cột có Arrtime null \n",
    "data.head()"
   ]
  },
  {
   "cell_type": "code",
   "execution_count": 3,
   "metadata": {
    "scrolled": true
   },
   "outputs": [
    {
     "data": {
      "text/html": [
       "<div>\n",
       "<style>\n",
       "    .dataframe thead tr:only-child th {\n",
       "        text-align: right;\n",
       "    }\n",
       "\n",
       "    .dataframe thead th {\n",
       "        text-align: left;\n",
       "    }\n",
       "\n",
       "    .dataframe tbody tr th {\n",
       "        vertical-align: top;\n",
       "    }\n",
       "</style>\n",
       "<table border=\"1\" class=\"dataframe\">\n",
       "  <thead>\n",
       "    <tr style=\"text-align: right;\">\n",
       "      <th></th>\n",
       "      <th>Year</th>\n",
       "      <th>Month</th>\n",
       "      <th>DayofMonth</th>\n",
       "      <th>DayOfWeek</th>\n",
       "      <th>DepTime</th>\n",
       "      <th>CRSDepTime</th>\n",
       "      <th>ArrTime</th>\n",
       "      <th>CRSArrTime</th>\n",
       "      <th>UniqueCarrier</th>\n",
       "      <th>FlightNum</th>\n",
       "      <th>TailNum</th>\n",
       "      <th>ActualElapsedTime</th>\n",
       "      <th>CRSElapsedTime</th>\n",
       "      <th>AirTime</th>\n",
       "      <th>ArrDelay</th>\n",
       "      <th>DepDelay</th>\n",
       "      <th>Origin</th>\n",
       "      <th>Dest</th>\n",
       "      <th>Distance</th>\n",
       "      <th>TaxiIn</th>\n",
       "      <th>TaxiOut</th>\n",
       "      <th>Cancelled</th>\n",
       "      <th>CancellationCode</th>\n",
       "      <th>Diverted</th>\n",
       "      <th>CarrierDelay</th>\n",
       "      <th>WeatherDelay</th>\n",
       "      <th>NASDelay</th>\n",
       "      <th>SecurityDelay</th>\n",
       "      <th>LateAircraftDelay</th>\n",
       "    </tr>\n",
       "  </thead>\n",
       "  <tbody>\n",
       "    <tr>\n",
       "      <th>count</th>\n",
       "      <td>342962.0</td>\n",
       "      <td>342962.000000</td>\n",
       "      <td>342962.000000</td>\n",
       "      <td>342962.000000</td>\n",
       "      <td>342962.000000</td>\n",
       "      <td>342962.000000</td>\n",
       "      <td>342962.000000</td>\n",
       "      <td>342962.000000</td>\n",
       "      <td>342962</td>\n",
       "      <td>342962.000000</td>\n",
       "      <td>342962</td>\n",
       "      <td>342810.000000</td>\n",
       "      <td>342962.000000</td>\n",
       "      <td>342810.000000</td>\n",
       "      <td>342810.000000</td>\n",
       "      <td>342962.000000</td>\n",
       "      <td>342962</td>\n",
       "      <td>342962</td>\n",
       "      <td>342962.000000</td>\n",
       "      <td>342962.000000</td>\n",
       "      <td>342962.000000</td>\n",
       "      <td>342962.0</td>\n",
       "      <td>0.0</td>\n",
       "      <td>342962.000000</td>\n",
       "      <td>76138.000000</td>\n",
       "      <td>76138.000000</td>\n",
       "      <td>76138.000000</td>\n",
       "      <td>76138.000000</td>\n",
       "      <td>76138.000000</td>\n",
       "    </tr>\n",
       "    <tr>\n",
       "      <th>unique</th>\n",
       "      <td>NaN</td>\n",
       "      <td>NaN</td>\n",
       "      <td>NaN</td>\n",
       "      <td>NaN</td>\n",
       "      <td>NaN</td>\n",
       "      <td>NaN</td>\n",
       "      <td>NaN</td>\n",
       "      <td>NaN</td>\n",
       "      <td>20</td>\n",
       "      <td>NaN</td>\n",
       "      <td>5284</td>\n",
       "      <td>NaN</td>\n",
       "      <td>NaN</td>\n",
       "      <td>NaN</td>\n",
       "      <td>NaN</td>\n",
       "      <td>NaN</td>\n",
       "      <td>300</td>\n",
       "      <td>302</td>\n",
       "      <td>NaN</td>\n",
       "      <td>NaN</td>\n",
       "      <td>NaN</td>\n",
       "      <td>NaN</td>\n",
       "      <td>0.0</td>\n",
       "      <td>NaN</td>\n",
       "      <td>NaN</td>\n",
       "      <td>NaN</td>\n",
       "      <td>NaN</td>\n",
       "      <td>NaN</td>\n",
       "      <td>NaN</td>\n",
       "    </tr>\n",
       "    <tr>\n",
       "      <th>top</th>\n",
       "      <td>NaN</td>\n",
       "      <td>NaN</td>\n",
       "      <td>NaN</td>\n",
       "      <td>NaN</td>\n",
       "      <td>NaN</td>\n",
       "      <td>NaN</td>\n",
       "      <td>NaN</td>\n",
       "      <td>NaN</td>\n",
       "      <td>WN</td>\n",
       "      <td>NaN</td>\n",
       "      <td>N477HA</td>\n",
       "      <td>NaN</td>\n",
       "      <td>NaN</td>\n",
       "      <td>NaN</td>\n",
       "      <td>NaN</td>\n",
       "      <td>NaN</td>\n",
       "      <td>ATL</td>\n",
       "      <td>ATL</td>\n",
       "      <td>NaN</td>\n",
       "      <td>NaN</td>\n",
       "      <td>NaN</td>\n",
       "      <td>NaN</td>\n",
       "      <td>NaN</td>\n",
       "      <td>NaN</td>\n",
       "      <td>NaN</td>\n",
       "      <td>NaN</td>\n",
       "      <td>NaN</td>\n",
       "      <td>NaN</td>\n",
       "      <td>NaN</td>\n",
       "    </tr>\n",
       "    <tr>\n",
       "      <th>freq</th>\n",
       "      <td>NaN</td>\n",
       "      <td>NaN</td>\n",
       "      <td>NaN</td>\n",
       "      <td>NaN</td>\n",
       "      <td>NaN</td>\n",
       "      <td>NaN</td>\n",
       "      <td>NaN</td>\n",
       "      <td>NaN</td>\n",
       "      <td>59131</td>\n",
       "      <td>NaN</td>\n",
       "      <td>253</td>\n",
       "      <td>NaN</td>\n",
       "      <td>NaN</td>\n",
       "      <td>NaN</td>\n",
       "      <td>NaN</td>\n",
       "      <td>NaN</td>\n",
       "      <td>20209</td>\n",
       "      <td>20130</td>\n",
       "      <td>NaN</td>\n",
       "      <td>NaN</td>\n",
       "      <td>NaN</td>\n",
       "      <td>NaN</td>\n",
       "      <td>NaN</td>\n",
       "      <td>NaN</td>\n",
       "      <td>NaN</td>\n",
       "      <td>NaN</td>\n",
       "      <td>NaN</td>\n",
       "      <td>NaN</td>\n",
       "      <td>NaN</td>\n",
       "    </tr>\n",
       "    <tr>\n",
       "      <th>mean</th>\n",
       "      <td>2008.0</td>\n",
       "      <td>6.389775</td>\n",
       "      <td>15.743913</td>\n",
       "      <td>3.930185</td>\n",
       "      <td>1332.890364</td>\n",
       "      <td>1324.056648</td>\n",
       "      <td>1480.733667</td>\n",
       "      <td>1493.492399</td>\n",
       "      <td>NaN</td>\n",
       "      <td>2218.261460</td>\n",
       "      <td>NaN</td>\n",
       "      <td>127.240054</td>\n",
       "      <td>129.021883</td>\n",
       "      <td>103.948202</td>\n",
       "      <td>8.143957</td>\n",
       "      <td>9.909521</td>\n",
       "      <td>NaN</td>\n",
       "      <td>NaN</td>\n",
       "      <td>728.382515</td>\n",
       "      <td>6.858637</td>\n",
       "      <td>16.435526</td>\n",
       "      <td>0.0</td>\n",
       "      <td>NaN</td>\n",
       "      <td>0.000443</td>\n",
       "      <td>15.906972</td>\n",
       "      <td>3.044301</td>\n",
       "      <td>17.132168</td>\n",
       "      <td>0.092923</td>\n",
       "      <td>20.616302</td>\n",
       "    </tr>\n",
       "    <tr>\n",
       "      <th>std</th>\n",
       "      <td>0.0</td>\n",
       "      <td>3.398617</td>\n",
       "      <td>8.801299</td>\n",
       "      <td>1.988897</td>\n",
       "      <td>477.941441</td>\n",
       "      <td>464.220592</td>\n",
       "      <td>504.557243</td>\n",
       "      <td>481.830871</td>\n",
       "      <td>NaN</td>\n",
       "      <td>1956.758803</td>\n",
       "      <td>NaN</td>\n",
       "      <td>70.235001</td>\n",
       "      <td>69.599125</td>\n",
       "      <td>67.504759</td>\n",
       "      <td>38.289125</td>\n",
       "      <td>35.022092</td>\n",
       "      <td>NaN</td>\n",
       "      <td>NaN</td>\n",
       "      <td>563.909318</td>\n",
       "      <td>4.924191</td>\n",
       "      <td>11.292240</td>\n",
       "      <td>0.0</td>\n",
       "      <td>NaN</td>\n",
       "      <td>0.021048</td>\n",
       "      <td>40.042251</td>\n",
       "      <td>18.961089</td>\n",
       "      <td>32.002088</td>\n",
       "      <td>2.172353</td>\n",
       "      <td>38.848274</td>\n",
       "    </tr>\n",
       "    <tr>\n",
       "      <th>min</th>\n",
       "      <td>2008.0</td>\n",
       "      <td>1.000000</td>\n",
       "      <td>1.000000</td>\n",
       "      <td>1.000000</td>\n",
       "      <td>1.000000</td>\n",
       "      <td>1.000000</td>\n",
       "      <td>1.000000</td>\n",
       "      <td>0.000000</td>\n",
       "      <td>NaN</td>\n",
       "      <td>1.000000</td>\n",
       "      <td>NaN</td>\n",
       "      <td>14.000000</td>\n",
       "      <td>19.000000</td>\n",
       "      <td>1.000000</td>\n",
       "      <td>-72.000000</td>\n",
       "      <td>-55.000000</td>\n",
       "      <td>NaN</td>\n",
       "      <td>NaN</td>\n",
       "      <td>31.000000</td>\n",
       "      <td>0.000000</td>\n",
       "      <td>0.000000</td>\n",
       "      <td>0.0</td>\n",
       "      <td>NaN</td>\n",
       "      <td>0.000000</td>\n",
       "      <td>0.000000</td>\n",
       "      <td>0.000000</td>\n",
       "      <td>0.000000</td>\n",
       "      <td>0.000000</td>\n",
       "      <td>0.000000</td>\n",
       "    </tr>\n",
       "    <tr>\n",
       "      <th>25%</th>\n",
       "      <td>2008.0</td>\n",
       "      <td>3.000000</td>\n",
       "      <td>8.000000</td>\n",
       "      <td>2.000000</td>\n",
       "      <td>928.000000</td>\n",
       "      <td>925.000000</td>\n",
       "      <td>1107.000000</td>\n",
       "      <td>1115.000000</td>\n",
       "      <td>NaN</td>\n",
       "      <td>622.000000</td>\n",
       "      <td>NaN</td>\n",
       "      <td>77.000000</td>\n",
       "      <td>80.000000</td>\n",
       "      <td>55.000000</td>\n",
       "      <td>-10.000000</td>\n",
       "      <td>-4.000000</td>\n",
       "      <td>NaN</td>\n",
       "      <td>NaN</td>\n",
       "      <td>325.000000</td>\n",
       "      <td>4.000000</td>\n",
       "      <td>10.000000</td>\n",
       "      <td>0.0</td>\n",
       "      <td>NaN</td>\n",
       "      <td>0.000000</td>\n",
       "      <td>0.000000</td>\n",
       "      <td>0.000000</td>\n",
       "      <td>0.000000</td>\n",
       "      <td>0.000000</td>\n",
       "      <td>0.000000</td>\n",
       "    </tr>\n",
       "    <tr>\n",
       "      <th>50%</th>\n",
       "      <td>2008.0</td>\n",
       "      <td>6.000000</td>\n",
       "      <td>16.000000</td>\n",
       "      <td>4.000000</td>\n",
       "      <td>1325.000000</td>\n",
       "      <td>1315.000000</td>\n",
       "      <td>1511.000000</td>\n",
       "      <td>1515.000000</td>\n",
       "      <td>NaN</td>\n",
       "      <td>1568.000000</td>\n",
       "      <td>NaN</td>\n",
       "      <td>110.000000</td>\n",
       "      <td>111.000000</td>\n",
       "      <td>86.000000</td>\n",
       "      <td>-2.000000</td>\n",
       "      <td>-1.000000</td>\n",
       "      <td>NaN</td>\n",
       "      <td>NaN</td>\n",
       "      <td>581.000000</td>\n",
       "      <td>6.000000</td>\n",
       "      <td>14.000000</td>\n",
       "      <td>0.0</td>\n",
       "      <td>NaN</td>\n",
       "      <td>0.000000</td>\n",
       "      <td>0.000000</td>\n",
       "      <td>0.000000</td>\n",
       "      <td>6.000000</td>\n",
       "      <td>0.000000</td>\n",
       "      <td>0.000000</td>\n",
       "    </tr>\n",
       "    <tr>\n",
       "      <th>75%</th>\n",
       "      <td>2008.0</td>\n",
       "      <td>9.000000</td>\n",
       "      <td>23.000000</td>\n",
       "      <td>6.000000</td>\n",
       "      <td>1727.000000</td>\n",
       "      <td>1715.000000</td>\n",
       "      <td>1908.000000</td>\n",
       "      <td>1905.000000</td>\n",
       "      <td>NaN</td>\n",
       "      <td>3503.000000</td>\n",
       "      <td>NaN</td>\n",
       "      <td>157.000000</td>\n",
       "      <td>159.000000</td>\n",
       "      <td>132.000000</td>\n",
       "      <td>12.000000</td>\n",
       "      <td>8.000000</td>\n",
       "      <td>NaN</td>\n",
       "      <td>NaN</td>\n",
       "      <td>954.000000</td>\n",
       "      <td>8.000000</td>\n",
       "      <td>19.000000</td>\n",
       "      <td>0.0</td>\n",
       "      <td>NaN</td>\n",
       "      <td>0.000000</td>\n",
       "      <td>16.000000</td>\n",
       "      <td>0.000000</td>\n",
       "      <td>21.000000</td>\n",
       "      <td>0.000000</td>\n",
       "      <td>26.000000</td>\n",
       "    </tr>\n",
       "    <tr>\n",
       "      <th>max</th>\n",
       "      <td>2008.0</td>\n",
       "      <td>12.000000</td>\n",
       "      <td>31.000000</td>\n",
       "      <td>7.000000</td>\n",
       "      <td>2400.000000</td>\n",
       "      <td>2359.000000</td>\n",
       "      <td>2400.000000</td>\n",
       "      <td>2359.000000</td>\n",
       "      <td>NaN</td>\n",
       "      <td>7829.000000</td>\n",
       "      <td>NaN</td>\n",
       "      <td>750.000000</td>\n",
       "      <td>660.000000</td>\n",
       "      <td>733.000000</td>\n",
       "      <td>1382.000000</td>\n",
       "      <td>1395.000000</td>\n",
       "      <td>NaN</td>\n",
       "      <td>NaN</td>\n",
       "      <td>4962.000000</td>\n",
       "      <td>168.000000</td>\n",
       "      <td>386.000000</td>\n",
       "      <td>0.0</td>\n",
       "      <td>NaN</td>\n",
       "      <td>1.000000</td>\n",
       "      <td>1382.000000</td>\n",
       "      <td>959.000000</td>\n",
       "      <td>1357.000000</td>\n",
       "      <td>155.000000</td>\n",
       "      <td>652.000000</td>\n",
       "    </tr>\n",
       "  </tbody>\n",
       "</table>\n",
       "</div>"
      ],
      "text/plain": [
       "            Year          Month     DayofMonth      DayOfWeek        DepTime  \\\n",
       "count   342962.0  342962.000000  342962.000000  342962.000000  342962.000000   \n",
       "unique       NaN            NaN            NaN            NaN            NaN   \n",
       "top          NaN            NaN            NaN            NaN            NaN   \n",
       "freq         NaN            NaN            NaN            NaN            NaN   \n",
       "mean      2008.0       6.389775      15.743913       3.930185    1332.890364   \n",
       "std          0.0       3.398617       8.801299       1.988897     477.941441   \n",
       "min       2008.0       1.000000       1.000000       1.000000       1.000000   \n",
       "25%       2008.0       3.000000       8.000000       2.000000     928.000000   \n",
       "50%       2008.0       6.000000      16.000000       4.000000    1325.000000   \n",
       "75%       2008.0       9.000000      23.000000       6.000000    1727.000000   \n",
       "max       2008.0      12.000000      31.000000       7.000000    2400.000000   \n",
       "\n",
       "           CRSDepTime        ArrTime     CRSArrTime UniqueCarrier  \\\n",
       "count   342962.000000  342962.000000  342962.000000        342962   \n",
       "unique            NaN            NaN            NaN            20   \n",
       "top               NaN            NaN            NaN            WN   \n",
       "freq              NaN            NaN            NaN         59131   \n",
       "mean      1324.056648    1480.733667    1493.492399           NaN   \n",
       "std        464.220592     504.557243     481.830871           NaN   \n",
       "min          1.000000       1.000000       0.000000           NaN   \n",
       "25%        925.000000    1107.000000    1115.000000           NaN   \n",
       "50%       1315.000000    1511.000000    1515.000000           NaN   \n",
       "75%       1715.000000    1908.000000    1905.000000           NaN   \n",
       "max       2359.000000    2400.000000    2359.000000           NaN   \n",
       "\n",
       "            FlightNum TailNum  ActualElapsedTime  CRSElapsedTime  \\\n",
       "count   342962.000000  342962      342810.000000   342962.000000   \n",
       "unique            NaN    5284                NaN             NaN   \n",
       "top               NaN  N477HA                NaN             NaN   \n",
       "freq              NaN     253                NaN             NaN   \n",
       "mean      2218.261460     NaN         127.240054      129.021883   \n",
       "std       1956.758803     NaN          70.235001       69.599125   \n",
       "min          1.000000     NaN          14.000000       19.000000   \n",
       "25%        622.000000     NaN          77.000000       80.000000   \n",
       "50%       1568.000000     NaN         110.000000      111.000000   \n",
       "75%       3503.000000     NaN         157.000000      159.000000   \n",
       "max       7829.000000     NaN         750.000000      660.000000   \n",
       "\n",
       "              AirTime       ArrDelay       DepDelay  Origin    Dest  \\\n",
       "count   342810.000000  342810.000000  342962.000000  342962  342962   \n",
       "unique            NaN            NaN            NaN     300     302   \n",
       "top               NaN            NaN            NaN     ATL     ATL   \n",
       "freq              NaN            NaN            NaN   20209   20130   \n",
       "mean       103.948202       8.143957       9.909521     NaN     NaN   \n",
       "std         67.504759      38.289125      35.022092     NaN     NaN   \n",
       "min          1.000000     -72.000000     -55.000000     NaN     NaN   \n",
       "25%         55.000000     -10.000000      -4.000000     NaN     NaN   \n",
       "50%         86.000000      -2.000000      -1.000000     NaN     NaN   \n",
       "75%        132.000000      12.000000       8.000000     NaN     NaN   \n",
       "max        733.000000    1382.000000    1395.000000     NaN     NaN   \n",
       "\n",
       "             Distance         TaxiIn        TaxiOut  Cancelled  \\\n",
       "count   342962.000000  342962.000000  342962.000000   342962.0   \n",
       "unique            NaN            NaN            NaN        NaN   \n",
       "top               NaN            NaN            NaN        NaN   \n",
       "freq              NaN            NaN            NaN        NaN   \n",
       "mean       728.382515       6.858637      16.435526        0.0   \n",
       "std        563.909318       4.924191      11.292240        0.0   \n",
       "min         31.000000       0.000000       0.000000        0.0   \n",
       "25%        325.000000       4.000000      10.000000        0.0   \n",
       "50%        581.000000       6.000000      14.000000        0.0   \n",
       "75%        954.000000       8.000000      19.000000        0.0   \n",
       "max       4962.000000     168.000000     386.000000        0.0   \n",
       "\n",
       "        CancellationCode       Diverted  CarrierDelay  WeatherDelay  \\\n",
       "count                0.0  342962.000000  76138.000000  76138.000000   \n",
       "unique               0.0            NaN           NaN           NaN   \n",
       "top                  NaN            NaN           NaN           NaN   \n",
       "freq                 NaN            NaN           NaN           NaN   \n",
       "mean                 NaN       0.000443     15.906972      3.044301   \n",
       "std                  NaN       0.021048     40.042251     18.961089   \n",
       "min                  NaN       0.000000      0.000000      0.000000   \n",
       "25%                  NaN       0.000000      0.000000      0.000000   \n",
       "50%                  NaN       0.000000      0.000000      0.000000   \n",
       "75%                  NaN       0.000000     16.000000      0.000000   \n",
       "max                  NaN       1.000000   1382.000000    959.000000   \n",
       "\n",
       "            NASDelay  SecurityDelay  LateAircraftDelay  \n",
       "count   76138.000000   76138.000000       76138.000000  \n",
       "unique           NaN            NaN                NaN  \n",
       "top              NaN            NaN                NaN  \n",
       "freq             NaN            NaN                NaN  \n",
       "mean       17.132168       0.092923          20.616302  \n",
       "std        32.002088       2.172353          38.848274  \n",
       "min         0.000000       0.000000           0.000000  \n",
       "25%         0.000000       0.000000           0.000000  \n",
       "50%         6.000000       0.000000           0.000000  \n",
       "75%        21.000000       0.000000          26.000000  \n",
       "max      1357.000000     155.000000         652.000000  "
      ]
     },
     "execution_count": 3,
     "metadata": {},
     "output_type": "execute_result"
    }
   ],
   "source": [
    "data.describe(include='all')"
   ]
  },
  {
   "cell_type": "code",
   "execution_count": 4,
   "metadata": {
    "collapsed": true
   },
   "outputs": [],
   "source": [
    "#sửa giá trị giờ 2400 thành 0000\n",
    "data.loc[(data['ArrTime'] ==2400),'ArrTime'] = \"0000\"\n",
    "data.loc[(data['DepTime'] ==2400),'DepTime'] = \"00000\"\n",
    "data.loc[(data['CRSArrTime'] ==2400),'CRSArrTime'] = \"0000\""
   ]
  },
  {
   "cell_type": "code",
   "execution_count": 5,
   "metadata": {},
   "outputs": [
    {
     "data": {
      "text/plain": [
       "257.0"
      ]
     },
     "execution_count": 5,
     "metadata": {},
     "output_type": "execute_result"
    }
   ],
   "source": [
    "# Hàm tính số phút giữa hai mốc thời gian\n",
    "def caculatemm(a1,a2):\n",
    "    mmresult = 0\n",
    "    hm1 = a1.split(':')\n",
    "    hm2 = a2.split(':')\n",
    "    if(hm2[0] == hm1[0]):\n",
    "        mmresult = abs(float(hm2[1])-float(hm1[1]))\n",
    "    if(hm2[0] > hm1[0]):\n",
    "        mmresult = float(hm2[0])*60  + float(hm2[1]) - float(hm1[0])*60-float(hm1[1])\n",
    "    else:\n",
    "        mmresult = (float(hm2[0]))*60  + float(hm2[1]) + (23-float(hm1[0]))*60+60-float(hm1[1])\n",
    "    return mmresult\n",
    "caculatemm(\"11:12\", \"15:29.0\")"
   ]
  },
  {
   "cell_type": "code",
   "execution_count": 6,
   "metadata": {
    "collapsed": true
   },
   "outputs": [],
   "source": [
    "#Điền giá trị 0 cho Các cột Delay có gias trị null \n",
    "data['CarrierDelay'] = data['CarrierDelay'].fillna(0)\n",
    "data['WeatherDelay'] = data['WeatherDelay'].fillna(0)\n",
    "data['NASDelay'] = data['NASDelay'].fillna(0)\n",
    "data['SecurityDelay'] = data['SecurityDelay'].fillna(0)\n",
    "data['LateAircraftDelay'] = data['LateAircraftDelay'].fillna(0)\n",
    "#format lại các cột có giá trị ngày giờ: hhmm -> hh:mm\n",
    "data['CRSDepTime'] = (data['CRSDepTime'].astype(int)/100).astype(int).astype(str) + ':' + (data['CRSDepTime'].astype(int)%100).astype(int).astype(str)\n",
    "data['CRSArrTime'] = (data['CRSArrTime'].astype(int)/100).astype(int).astype(str) + ':' + (data['CRSArrTime'].astype(int)%100).astype(int).astype(str)\n",
    "data['DepTime'] = (data['DepTime'].astype(int)/100).astype(int).astype(str) + ':' + (data['DepTime'].astype(int)%100).astype(int).astype(str)\n",
    "data['ArrTime'] = (data['ArrTime'].astype(int)/100).astype(int).astype(str) + ':' + (data['ArrTime'].astype(int)%100).astype(int).astype(str)\n"
   ]
  },
  {
   "cell_type": "code",
   "execution_count": null,
   "metadata": {},
   "outputs": [],
   "source": []
  },
  {
   "cell_type": "code",
   "execution_count": 7,
   "metadata": {
    "scrolled": true
   },
   "outputs": [
    {
     "name": "stderr",
     "output_type": "stream",
     "text": [
      "C:\\ProgramData\\Anaconda3\\lib\\site-packages\\ipykernel_launcher.py:6: SettingWithCopyWarning: \n",
      "A value is trying to be set on a copy of a slice from a DataFrame\n",
      "\n",
      "See the caveats in the documentation: http://pandas.pydata.org/pandas-docs/stable/indexing.html#indexing-view-versus-copy\n",
      "  \n"
     ]
    }
   ],
   "source": [
    "#ArrDelay = ArrTime - CRSArrTime cho các cột ArrDelay có giá trị null\n",
    "list2=data[data['ArrDelay'].isnull()].index.tolist()\n",
    "len(list2)\n",
    "for i in list2:\n",
    "    try:\n",
    "        data['ArrDelay'][i] = caculatemm(data.CRSArrTime[i],data.ArrTime[i])\n",
    "    except:\n",
    "        print(\"igonre: \",data.CRSArrTime[i],data.ArrTime[i])"
   ]
  },
  {
   "cell_type": "code",
   "execution_count": null,
   "metadata": {},
   "outputs": [],
   "source": []
  },
  {
   "cell_type": "code",
   "execution_count": 8,
   "metadata": {
    "collapsed": true
   },
   "outputs": [],
   "source": [
    "# Xử lí Na cột 'ActualElapsedTime'\n",
    "data['ActualElapsedTime'] = data['ActualElapsedTime'].fillna(data.CRSElapsedTime + (data.DepDelay - data.ArrDelay))"
   ]
  },
  {
   "cell_type": "code",
   "execution_count": 9,
   "metadata": {
    "collapsed": true
   },
   "outputs": [],
   "source": [
    "# Xử lí Na cột 'AirTime'\n",
    "data['AirTime'] = data['AirTime'].fillna(data.ActualElapsedTime - (data.TaxiIn + data.TaxiOut))"
   ]
  },
  {
   "cell_type": "code",
   "execution_count": null,
   "metadata": {},
   "outputs": [],
   "source": []
  },
  {
   "cell_type": "code",
   "execution_count": 10,
   "metadata": {},
   "outputs": [
    {
     "data": {
      "text/html": [
       "<div>\n",
       "<style>\n",
       "    .dataframe thead tr:only-child th {\n",
       "        text-align: right;\n",
       "    }\n",
       "\n",
       "    .dataframe thead th {\n",
       "        text-align: left;\n",
       "    }\n",
       "\n",
       "    .dataframe tbody tr th {\n",
       "        vertical-align: top;\n",
       "    }\n",
       "</style>\n",
       "<table border=\"1\" class=\"dataframe\">\n",
       "  <thead>\n",
       "    <tr style=\"text-align: right;\">\n",
       "      <th></th>\n",
       "      <th>Year</th>\n",
       "      <th>Month</th>\n",
       "      <th>DayofMonth</th>\n",
       "      <th>DayOfWeek</th>\n",
       "      <th>DepTime</th>\n",
       "      <th>CRSDepTime</th>\n",
       "      <th>ArrTime</th>\n",
       "      <th>CRSArrTime</th>\n",
       "      <th>UniqueCarrier</th>\n",
       "      <th>FlightNum</th>\n",
       "      <th>TailNum</th>\n",
       "      <th>ActualElapsedTime</th>\n",
       "      <th>CRSElapsedTime</th>\n",
       "      <th>AirTime</th>\n",
       "      <th>ArrDelay</th>\n",
       "      <th>DepDelay</th>\n",
       "      <th>Origin</th>\n",
       "      <th>Dest</th>\n",
       "      <th>Distance</th>\n",
       "      <th>TaxiIn</th>\n",
       "      <th>TaxiOut</th>\n",
       "      <th>Cancelled</th>\n",
       "      <th>CancellationCode</th>\n",
       "      <th>Diverted</th>\n",
       "      <th>CarrierDelay</th>\n",
       "      <th>WeatherDelay</th>\n",
       "      <th>NASDelay</th>\n",
       "      <th>SecurityDelay</th>\n",
       "      <th>LateAircraftDelay</th>\n",
       "    </tr>\n",
       "  </thead>\n",
       "  <tbody>\n",
       "    <tr>\n",
       "      <th>count</th>\n",
       "      <td>342962.0</td>\n",
       "      <td>342962.000000</td>\n",
       "      <td>342962.000000</td>\n",
       "      <td>342962.000000</td>\n",
       "      <td>342962</td>\n",
       "      <td>342962</td>\n",
       "      <td>342962</td>\n",
       "      <td>342962</td>\n",
       "      <td>342962</td>\n",
       "      <td>342962.000000</td>\n",
       "      <td>342962</td>\n",
       "      <td>342962.000000</td>\n",
       "      <td>342962.000000</td>\n",
       "      <td>342962.000000</td>\n",
       "      <td>342962.000000</td>\n",
       "      <td>342962.000000</td>\n",
       "      <td>342962</td>\n",
       "      <td>342962</td>\n",
       "      <td>342962.000000</td>\n",
       "      <td>342962.000000</td>\n",
       "      <td>342962.000000</td>\n",
       "      <td>342962.0</td>\n",
       "      <td>0.0</td>\n",
       "      <td>342962.000000</td>\n",
       "      <td>342962.000000</td>\n",
       "      <td>342962.000000</td>\n",
       "      <td>342962.000000</td>\n",
       "      <td>342962.000000</td>\n",
       "      <td>342962.000000</td>\n",
       "    </tr>\n",
       "    <tr>\n",
       "      <th>unique</th>\n",
       "      <td>NaN</td>\n",
       "      <td>NaN</td>\n",
       "      <td>NaN</td>\n",
       "      <td>NaN</td>\n",
       "      <td>1367</td>\n",
       "      <td>1165</td>\n",
       "      <td>1432</td>\n",
       "      <td>1331</td>\n",
       "      <td>20</td>\n",
       "      <td>NaN</td>\n",
       "      <td>5284</td>\n",
       "      <td>NaN</td>\n",
       "      <td>NaN</td>\n",
       "      <td>NaN</td>\n",
       "      <td>NaN</td>\n",
       "      <td>NaN</td>\n",
       "      <td>300</td>\n",
       "      <td>302</td>\n",
       "      <td>NaN</td>\n",
       "      <td>NaN</td>\n",
       "      <td>NaN</td>\n",
       "      <td>NaN</td>\n",
       "      <td>0.0</td>\n",
       "      <td>NaN</td>\n",
       "      <td>NaN</td>\n",
       "      <td>NaN</td>\n",
       "      <td>NaN</td>\n",
       "      <td>NaN</td>\n",
       "      <td>NaN</td>\n",
       "    </tr>\n",
       "    <tr>\n",
       "      <th>top</th>\n",
       "      <td>NaN</td>\n",
       "      <td>NaN</td>\n",
       "      <td>NaN</td>\n",
       "      <td>NaN</td>\n",
       "      <td>5:55</td>\n",
       "      <td>6:0</td>\n",
       "      <td>12:30</td>\n",
       "      <td>12:30</td>\n",
       "      <td>WN</td>\n",
       "      <td>NaN</td>\n",
       "      <td>N477HA</td>\n",
       "      <td>NaN</td>\n",
       "      <td>NaN</td>\n",
       "      <td>NaN</td>\n",
       "      <td>NaN</td>\n",
       "      <td>NaN</td>\n",
       "      <td>ATL</td>\n",
       "      <td>ATL</td>\n",
       "      <td>NaN</td>\n",
       "      <td>NaN</td>\n",
       "      <td>NaN</td>\n",
       "      <td>NaN</td>\n",
       "      <td>NaN</td>\n",
       "      <td>NaN</td>\n",
       "      <td>NaN</td>\n",
       "      <td>NaN</td>\n",
       "      <td>NaN</td>\n",
       "      <td>NaN</td>\n",
       "      <td>NaN</td>\n",
       "    </tr>\n",
       "    <tr>\n",
       "      <th>freq</th>\n",
       "      <td>NaN</td>\n",
       "      <td>NaN</td>\n",
       "      <td>NaN</td>\n",
       "      <td>NaN</td>\n",
       "      <td>876</td>\n",
       "      <td>6597</td>\n",
       "      <td>443</td>\n",
       "      <td>1194</td>\n",
       "      <td>59131</td>\n",
       "      <td>NaN</td>\n",
       "      <td>253</td>\n",
       "      <td>NaN</td>\n",
       "      <td>NaN</td>\n",
       "      <td>NaN</td>\n",
       "      <td>NaN</td>\n",
       "      <td>NaN</td>\n",
       "      <td>20209</td>\n",
       "      <td>20130</td>\n",
       "      <td>NaN</td>\n",
       "      <td>NaN</td>\n",
       "      <td>NaN</td>\n",
       "      <td>NaN</td>\n",
       "      <td>NaN</td>\n",
       "      <td>NaN</td>\n",
       "      <td>NaN</td>\n",
       "      <td>NaN</td>\n",
       "      <td>NaN</td>\n",
       "      <td>NaN</td>\n",
       "      <td>NaN</td>\n",
       "    </tr>\n",
       "    <tr>\n",
       "      <th>mean</th>\n",
       "      <td>2008.0</td>\n",
       "      <td>6.389775</td>\n",
       "      <td>15.743913</td>\n",
       "      <td>3.930185</td>\n",
       "      <td>NaN</td>\n",
       "      <td>NaN</td>\n",
       "      <td>NaN</td>\n",
       "      <td>NaN</td>\n",
       "      <td>NaN</td>\n",
       "      <td>2218.261460</td>\n",
       "      <td>NaN</td>\n",
       "      <td>127.096229</td>\n",
       "      <td>129.021883</td>\n",
       "      <td>103.802066</td>\n",
       "      <td>8.314507</td>\n",
       "      <td>9.909521</td>\n",
       "      <td>NaN</td>\n",
       "      <td>NaN</td>\n",
       "      <td>728.382515</td>\n",
       "      <td>6.858637</td>\n",
       "      <td>16.435526</td>\n",
       "      <td>0.0</td>\n",
       "      <td>NaN</td>\n",
       "      <td>0.000443</td>\n",
       "      <td>3.531368</td>\n",
       "      <td>0.675839</td>\n",
       "      <td>3.803363</td>\n",
       "      <td>0.020629</td>\n",
       "      <td>4.576845</td>\n",
       "    </tr>\n",
       "    <tr>\n",
       "      <th>std</th>\n",
       "      <td>0.0</td>\n",
       "      <td>3.398617</td>\n",
       "      <td>8.801299</td>\n",
       "      <td>1.988897</td>\n",
       "      <td>NaN</td>\n",
       "      <td>NaN</td>\n",
       "      <td>NaN</td>\n",
       "      <td>NaN</td>\n",
       "      <td>NaN</td>\n",
       "      <td>1956.758803</td>\n",
       "      <td>NaN</td>\n",
       "      <td>71.698483</td>\n",
       "      <td>69.599125</td>\n",
       "      <td>69.035473</td>\n",
       "      <td>40.911993</td>\n",
       "      <td>35.022092</td>\n",
       "      <td>NaN</td>\n",
       "      <td>NaN</td>\n",
       "      <td>563.909318</td>\n",
       "      <td>4.924191</td>\n",
       "      <td>11.292240</td>\n",
       "      <td>0.0</td>\n",
       "      <td>NaN</td>\n",
       "      <td>0.021048</td>\n",
       "      <td>19.991301</td>\n",
       "      <td>9.022994</td>\n",
       "      <td>16.674864</td>\n",
       "      <td>1.024271</td>\n",
       "      <td>20.210112</td>\n",
       "    </tr>\n",
       "    <tr>\n",
       "      <th>min</th>\n",
       "      <td>2008.0</td>\n",
       "      <td>1.000000</td>\n",
       "      <td>1.000000</td>\n",
       "      <td>1.000000</td>\n",
       "      <td>NaN</td>\n",
       "      <td>NaN</td>\n",
       "      <td>NaN</td>\n",
       "      <td>NaN</td>\n",
       "      <td>NaN</td>\n",
       "      <td>1.000000</td>\n",
       "      <td>NaN</td>\n",
       "      <td>-1963.000000</td>\n",
       "      <td>19.000000</td>\n",
       "      <td>-1979.000000</td>\n",
       "      <td>-1071.000000</td>\n",
       "      <td>-55.000000</td>\n",
       "      <td>NaN</td>\n",
       "      <td>NaN</td>\n",
       "      <td>31.000000</td>\n",
       "      <td>0.000000</td>\n",
       "      <td>0.000000</td>\n",
       "      <td>0.0</td>\n",
       "      <td>NaN</td>\n",
       "      <td>0.000000</td>\n",
       "      <td>0.000000</td>\n",
       "      <td>0.000000</td>\n",
       "      <td>0.000000</td>\n",
       "      <td>0.000000</td>\n",
       "      <td>0.000000</td>\n",
       "    </tr>\n",
       "    <tr>\n",
       "      <th>25%</th>\n",
       "      <td>2008.0</td>\n",
       "      <td>3.000000</td>\n",
       "      <td>8.000000</td>\n",
       "      <td>2.000000</td>\n",
       "      <td>NaN</td>\n",
       "      <td>NaN</td>\n",
       "      <td>NaN</td>\n",
       "      <td>NaN</td>\n",
       "      <td>NaN</td>\n",
       "      <td>622.000000</td>\n",
       "      <td>NaN</td>\n",
       "      <td>76.000000</td>\n",
       "      <td>80.000000</td>\n",
       "      <td>55.000000</td>\n",
       "      <td>-10.000000</td>\n",
       "      <td>-4.000000</td>\n",
       "      <td>NaN</td>\n",
       "      <td>NaN</td>\n",
       "      <td>325.000000</td>\n",
       "      <td>4.000000</td>\n",
       "      <td>10.000000</td>\n",
       "      <td>0.0</td>\n",
       "      <td>NaN</td>\n",
       "      <td>0.000000</td>\n",
       "      <td>0.000000</td>\n",
       "      <td>0.000000</td>\n",
       "      <td>0.000000</td>\n",
       "      <td>0.000000</td>\n",
       "      <td>0.000000</td>\n",
       "    </tr>\n",
       "    <tr>\n",
       "      <th>50%</th>\n",
       "      <td>2008.0</td>\n",
       "      <td>6.000000</td>\n",
       "      <td>16.000000</td>\n",
       "      <td>4.000000</td>\n",
       "      <td>NaN</td>\n",
       "      <td>NaN</td>\n",
       "      <td>NaN</td>\n",
       "      <td>NaN</td>\n",
       "      <td>NaN</td>\n",
       "      <td>1568.000000</td>\n",
       "      <td>NaN</td>\n",
       "      <td>109.000000</td>\n",
       "      <td>111.000000</td>\n",
       "      <td>86.000000</td>\n",
       "      <td>-2.000000</td>\n",
       "      <td>-1.000000</td>\n",
       "      <td>NaN</td>\n",
       "      <td>NaN</td>\n",
       "      <td>581.000000</td>\n",
       "      <td>6.000000</td>\n",
       "      <td>14.000000</td>\n",
       "      <td>0.0</td>\n",
       "      <td>NaN</td>\n",
       "      <td>0.000000</td>\n",
       "      <td>0.000000</td>\n",
       "      <td>0.000000</td>\n",
       "      <td>0.000000</td>\n",
       "      <td>0.000000</td>\n",
       "      <td>0.000000</td>\n",
       "    </tr>\n",
       "    <tr>\n",
       "      <th>75%</th>\n",
       "      <td>2008.0</td>\n",
       "      <td>9.000000</td>\n",
       "      <td>23.000000</td>\n",
       "      <td>6.000000</td>\n",
       "      <td>NaN</td>\n",
       "      <td>NaN</td>\n",
       "      <td>NaN</td>\n",
       "      <td>NaN</td>\n",
       "      <td>NaN</td>\n",
       "      <td>3503.000000</td>\n",
       "      <td>NaN</td>\n",
       "      <td>157.000000</td>\n",
       "      <td>159.000000</td>\n",
       "      <td>132.000000</td>\n",
       "      <td>12.000000</td>\n",
       "      <td>8.000000</td>\n",
       "      <td>NaN</td>\n",
       "      <td>NaN</td>\n",
       "      <td>954.000000</td>\n",
       "      <td>8.000000</td>\n",
       "      <td>19.000000</td>\n",
       "      <td>0.0</td>\n",
       "      <td>NaN</td>\n",
       "      <td>0.000000</td>\n",
       "      <td>0.000000</td>\n",
       "      <td>0.000000</td>\n",
       "      <td>0.000000</td>\n",
       "      <td>0.000000</td>\n",
       "      <td>0.000000</td>\n",
       "    </tr>\n",
       "    <tr>\n",
       "      <th>max</th>\n",
       "      <td>2008.0</td>\n",
       "      <td>12.000000</td>\n",
       "      <td>31.000000</td>\n",
       "      <td>7.000000</td>\n",
       "      <td>NaN</td>\n",
       "      <td>NaN</td>\n",
       "      <td>NaN</td>\n",
       "      <td>NaN</td>\n",
       "      <td>NaN</td>\n",
       "      <td>7829.000000</td>\n",
       "      <td>NaN</td>\n",
       "      <td>1590.000000</td>\n",
       "      <td>660.000000</td>\n",
       "      <td>1566.000000</td>\n",
       "      <td>2132.000000</td>\n",
       "      <td>1395.000000</td>\n",
       "      <td>NaN</td>\n",
       "      <td>NaN</td>\n",
       "      <td>4962.000000</td>\n",
       "      <td>168.000000</td>\n",
       "      <td>386.000000</td>\n",
       "      <td>0.0</td>\n",
       "      <td>NaN</td>\n",
       "      <td>1.000000</td>\n",
       "      <td>1382.000000</td>\n",
       "      <td>959.000000</td>\n",
       "      <td>1357.000000</td>\n",
       "      <td>155.000000</td>\n",
       "      <td>652.000000</td>\n",
       "    </tr>\n",
       "  </tbody>\n",
       "</table>\n",
       "</div>"
      ],
      "text/plain": [
       "            Year          Month     DayofMonth      DayOfWeek DepTime  \\\n",
       "count   342962.0  342962.000000  342962.000000  342962.000000  342962   \n",
       "unique       NaN            NaN            NaN            NaN    1367   \n",
       "top          NaN            NaN            NaN            NaN    5:55   \n",
       "freq         NaN            NaN            NaN            NaN     876   \n",
       "mean      2008.0       6.389775      15.743913       3.930185     NaN   \n",
       "std          0.0       3.398617       8.801299       1.988897     NaN   \n",
       "min       2008.0       1.000000       1.000000       1.000000     NaN   \n",
       "25%       2008.0       3.000000       8.000000       2.000000     NaN   \n",
       "50%       2008.0       6.000000      16.000000       4.000000     NaN   \n",
       "75%       2008.0       9.000000      23.000000       6.000000     NaN   \n",
       "max       2008.0      12.000000      31.000000       7.000000     NaN   \n",
       "\n",
       "       CRSDepTime ArrTime CRSArrTime UniqueCarrier      FlightNum TailNum  \\\n",
       "count      342962  342962     342962        342962  342962.000000  342962   \n",
       "unique       1165    1432       1331            20            NaN    5284   \n",
       "top           6:0   12:30      12:30            WN            NaN  N477HA   \n",
       "freq         6597     443       1194         59131            NaN     253   \n",
       "mean          NaN     NaN        NaN           NaN    2218.261460     NaN   \n",
       "std           NaN     NaN        NaN           NaN    1956.758803     NaN   \n",
       "min           NaN     NaN        NaN           NaN       1.000000     NaN   \n",
       "25%           NaN     NaN        NaN           NaN     622.000000     NaN   \n",
       "50%           NaN     NaN        NaN           NaN    1568.000000     NaN   \n",
       "75%           NaN     NaN        NaN           NaN    3503.000000     NaN   \n",
       "max           NaN     NaN        NaN           NaN    7829.000000     NaN   \n",
       "\n",
       "        ActualElapsedTime  CRSElapsedTime        AirTime       ArrDelay  \\\n",
       "count       342962.000000   342962.000000  342962.000000  342962.000000   \n",
       "unique                NaN             NaN            NaN            NaN   \n",
       "top                   NaN             NaN            NaN            NaN   \n",
       "freq                  NaN             NaN            NaN            NaN   \n",
       "mean           127.096229      129.021883     103.802066       8.314507   \n",
       "std             71.698483       69.599125      69.035473      40.911993   \n",
       "min          -1963.000000       19.000000   -1979.000000   -1071.000000   \n",
       "25%             76.000000       80.000000      55.000000     -10.000000   \n",
       "50%            109.000000      111.000000      86.000000      -2.000000   \n",
       "75%            157.000000      159.000000     132.000000      12.000000   \n",
       "max           1590.000000      660.000000    1566.000000    2132.000000   \n",
       "\n",
       "             DepDelay  Origin    Dest       Distance         TaxiIn  \\\n",
       "count   342962.000000  342962  342962  342962.000000  342962.000000   \n",
       "unique            NaN     300     302            NaN            NaN   \n",
       "top               NaN     ATL     ATL            NaN            NaN   \n",
       "freq              NaN   20209   20130            NaN            NaN   \n",
       "mean         9.909521     NaN     NaN     728.382515       6.858637   \n",
       "std         35.022092     NaN     NaN     563.909318       4.924191   \n",
       "min        -55.000000     NaN     NaN      31.000000       0.000000   \n",
       "25%         -4.000000     NaN     NaN     325.000000       4.000000   \n",
       "50%         -1.000000     NaN     NaN     581.000000       6.000000   \n",
       "75%          8.000000     NaN     NaN     954.000000       8.000000   \n",
       "max       1395.000000     NaN     NaN    4962.000000     168.000000   \n",
       "\n",
       "              TaxiOut  Cancelled  CancellationCode       Diverted  \\\n",
       "count   342962.000000   342962.0               0.0  342962.000000   \n",
       "unique            NaN        NaN               0.0            NaN   \n",
       "top               NaN        NaN               NaN            NaN   \n",
       "freq              NaN        NaN               NaN            NaN   \n",
       "mean        16.435526        0.0               NaN       0.000443   \n",
       "std         11.292240        0.0               NaN       0.021048   \n",
       "min          0.000000        0.0               NaN       0.000000   \n",
       "25%         10.000000        0.0               NaN       0.000000   \n",
       "50%         14.000000        0.0               NaN       0.000000   \n",
       "75%         19.000000        0.0               NaN       0.000000   \n",
       "max        386.000000        0.0               NaN       1.000000   \n",
       "\n",
       "         CarrierDelay   WeatherDelay       NASDelay  SecurityDelay  \\\n",
       "count   342962.000000  342962.000000  342962.000000  342962.000000   \n",
       "unique            NaN            NaN            NaN            NaN   \n",
       "top               NaN            NaN            NaN            NaN   \n",
       "freq              NaN            NaN            NaN            NaN   \n",
       "mean         3.531368       0.675839       3.803363       0.020629   \n",
       "std         19.991301       9.022994      16.674864       1.024271   \n",
       "min          0.000000       0.000000       0.000000       0.000000   \n",
       "25%          0.000000       0.000000       0.000000       0.000000   \n",
       "50%          0.000000       0.000000       0.000000       0.000000   \n",
       "75%          0.000000       0.000000       0.000000       0.000000   \n",
       "max       1382.000000     959.000000    1357.000000     155.000000   \n",
       "\n",
       "        LateAircraftDelay  \n",
       "count       342962.000000  \n",
       "unique                NaN  \n",
       "top                   NaN  \n",
       "freq                  NaN  \n",
       "mean             4.576845  \n",
       "std             20.210112  \n",
       "min              0.000000  \n",
       "25%              0.000000  \n",
       "50%              0.000000  \n",
       "75%              0.000000  \n",
       "max            652.000000  "
      ]
     },
     "execution_count": 10,
     "metadata": {},
     "output_type": "execute_result"
    }
   ],
   "source": [
    "data.describe(include = 'all') # xem lại data sau khi cleaning\n"
   ]
  },
  {
   "cell_type": "code",
   "execution_count": 11,
   "metadata": {},
   "outputs": [
    {
     "data": {
      "text/html": [
       "<div>\n",
       "<style>\n",
       "    .dataframe thead tr:only-child th {\n",
       "        text-align: right;\n",
       "    }\n",
       "\n",
       "    .dataframe thead th {\n",
       "        text-align: left;\n",
       "    }\n",
       "\n",
       "    .dataframe tbody tr th {\n",
       "        vertical-align: top;\n",
       "    }\n",
       "</style>\n",
       "<table border=\"1\" class=\"dataframe\">\n",
       "  <thead>\n",
       "    <tr style=\"text-align: right;\">\n",
       "      <th></th>\n",
       "      <th>Year</th>\n",
       "      <th>Month</th>\n",
       "      <th>DayofMonth</th>\n",
       "      <th>DayOfWeek</th>\n",
       "      <th>DepTime</th>\n",
       "      <th>CRSDepTime</th>\n",
       "      <th>ArrTime</th>\n",
       "      <th>CRSArrTime</th>\n",
       "      <th>UniqueCarrier</th>\n",
       "      <th>FlightNum</th>\n",
       "      <th>TailNum</th>\n",
       "      <th>ActualElapsedTime</th>\n",
       "      <th>CRSElapsedTime</th>\n",
       "      <th>AirTime</th>\n",
       "      <th>ArrDelay</th>\n",
       "      <th>DepDelay</th>\n",
       "      <th>Origin</th>\n",
       "      <th>Dest</th>\n",
       "      <th>Distance</th>\n",
       "      <th>TaxiIn</th>\n",
       "      <th>TaxiOut</th>\n",
       "      <th>Cancelled</th>\n",
       "      <th>CancellationCode</th>\n",
       "      <th>Diverted</th>\n",
       "      <th>CarrierDelay</th>\n",
       "      <th>WeatherDelay</th>\n",
       "      <th>NASDelay</th>\n",
       "      <th>SecurityDelay</th>\n",
       "      <th>LateAircraftDelay</th>\n",
       "      <th>Late</th>\n",
       "    </tr>\n",
       "  </thead>\n",
       "  <tbody>\n",
       "    <tr>\n",
       "      <th>0</th>\n",
       "      <td>2008</td>\n",
       "      <td>3</td>\n",
       "      <td>28</td>\n",
       "      <td>5</td>\n",
       "      <td>9:20</td>\n",
       "      <td>9:25</td>\n",
       "      <td>11:59</td>\n",
       "      <td>12:18</td>\n",
       "      <td>CO</td>\n",
       "      <td>1811</td>\n",
       "      <td>N14336</td>\n",
       "      <td>159.0</td>\n",
       "      <td>173.0</td>\n",
       "      <td>145.0</td>\n",
       "      <td>-19.0</td>\n",
       "      <td>-5.0</td>\n",
       "      <td>CLE</td>\n",
       "      <td>RSW</td>\n",
       "      <td>1025</td>\n",
       "      <td>3.0</td>\n",
       "      <td>11.0</td>\n",
       "      <td>0</td>\n",
       "      <td>NaN</td>\n",
       "      <td>0</td>\n",
       "      <td>0.0</td>\n",
       "      <td>0.0</td>\n",
       "      <td>0.0</td>\n",
       "      <td>0.0</td>\n",
       "      <td>0.0</td>\n",
       "      <td>0</td>\n",
       "    </tr>\n",
       "    <tr>\n",
       "      <th>1</th>\n",
       "      <td>2008</td>\n",
       "      <td>6</td>\n",
       "      <td>26</td>\n",
       "      <td>4</td>\n",
       "      <td>10:5</td>\n",
       "      <td>10:5</td>\n",
       "      <td>11:42</td>\n",
       "      <td>11:55</td>\n",
       "      <td>WN</td>\n",
       "      <td>461</td>\n",
       "      <td>N477WN</td>\n",
       "      <td>157.0</td>\n",
       "      <td>170.0</td>\n",
       "      <td>137.0</td>\n",
       "      <td>-13.0</td>\n",
       "      <td>0.0</td>\n",
       "      <td>BNA</td>\n",
       "      <td>DEN</td>\n",
       "      <td>1013</td>\n",
       "      <td>7.0</td>\n",
       "      <td>13.0</td>\n",
       "      <td>0</td>\n",
       "      <td>NaN</td>\n",
       "      <td>0</td>\n",
       "      <td>0.0</td>\n",
       "      <td>0.0</td>\n",
       "      <td>0.0</td>\n",
       "      <td>0.0</td>\n",
       "      <td>0.0</td>\n",
       "      <td>0</td>\n",
       "    </tr>\n",
       "    <tr>\n",
       "      <th>2</th>\n",
       "      <td>2008</td>\n",
       "      <td>2</td>\n",
       "      <td>15</td>\n",
       "      <td>5</td>\n",
       "      <td>20:34</td>\n",
       "      <td>19:59</td>\n",
       "      <td>21:33</td>\n",
       "      <td>21:3</td>\n",
       "      <td>EV</td>\n",
       "      <td>4601</td>\n",
       "      <td>N935EV</td>\n",
       "      <td>59.0</td>\n",
       "      <td>64.0</td>\n",
       "      <td>36.0</td>\n",
       "      <td>30.0</td>\n",
       "      <td>35.0</td>\n",
       "      <td>ATL</td>\n",
       "      <td>BQK</td>\n",
       "      <td>238</td>\n",
       "      <td>4.0</td>\n",
       "      <td>19.0</td>\n",
       "      <td>0</td>\n",
       "      <td>NaN</td>\n",
       "      <td>0</td>\n",
       "      <td>0.0</td>\n",
       "      <td>0.0</td>\n",
       "      <td>30.0</td>\n",
       "      <td>0.0</td>\n",
       "      <td>0.0</td>\n",
       "      <td>0</td>\n",
       "    </tr>\n",
       "    <tr>\n",
       "      <th>3</th>\n",
       "      <td>2008</td>\n",
       "      <td>3</td>\n",
       "      <td>10</td>\n",
       "      <td>1</td>\n",
       "      <td>10:3</td>\n",
       "      <td>10:10</td>\n",
       "      <td>13:7</td>\n",
       "      <td>13:26</td>\n",
       "      <td>EV</td>\n",
       "      <td>4684</td>\n",
       "      <td>N889AS</td>\n",
       "      <td>124.0</td>\n",
       "      <td>136.0</td>\n",
       "      <td>109.0</td>\n",
       "      <td>-19.0</td>\n",
       "      <td>-7.0</td>\n",
       "      <td>GRB</td>\n",
       "      <td>ATL</td>\n",
       "      <td>774</td>\n",
       "      <td>6.0</td>\n",
       "      <td>9.0</td>\n",
       "      <td>0</td>\n",
       "      <td>NaN</td>\n",
       "      <td>0</td>\n",
       "      <td>0.0</td>\n",
       "      <td>0.0</td>\n",
       "      <td>0.0</td>\n",
       "      <td>0.0</td>\n",
       "      <td>0.0</td>\n",
       "      <td>0</td>\n",
       "    </tr>\n",
       "    <tr>\n",
       "      <th>4</th>\n",
       "      <td>2008</td>\n",
       "      <td>12</td>\n",
       "      <td>8</td>\n",
       "      <td>1</td>\n",
       "      <td>11:31</td>\n",
       "      <td>11:25</td>\n",
       "      <td>13:21</td>\n",
       "      <td>13:30</td>\n",
       "      <td>WN</td>\n",
       "      <td>1236</td>\n",
       "      <td>N312SW</td>\n",
       "      <td>110.0</td>\n",
       "      <td>125.0</td>\n",
       "      <td>97.0</td>\n",
       "      <td>-9.0</td>\n",
       "      <td>6.0</td>\n",
       "      <td>BWI</td>\n",
       "      <td>JAX</td>\n",
       "      <td>663</td>\n",
       "      <td>5.0</td>\n",
       "      <td>8.0</td>\n",
       "      <td>0</td>\n",
       "      <td>NaN</td>\n",
       "      <td>0</td>\n",
       "      <td>0.0</td>\n",
       "      <td>0.0</td>\n",
       "      <td>0.0</td>\n",
       "      <td>0.0</td>\n",
       "      <td>0.0</td>\n",
       "      <td>0</td>\n",
       "    </tr>\n",
       "  </tbody>\n",
       "</table>\n",
       "</div>"
      ],
      "text/plain": [
       "   Year  Month  DayofMonth  DayOfWeek DepTime CRSDepTime ArrTime CRSArrTime  \\\n",
       "0  2008      3          28          5    9:20       9:25   11:59      12:18   \n",
       "1  2008      6          26          4    10:5       10:5   11:42      11:55   \n",
       "2  2008      2          15          5   20:34      19:59   21:33       21:3   \n",
       "3  2008      3          10          1    10:3      10:10    13:7      13:26   \n",
       "4  2008     12           8          1   11:31      11:25   13:21      13:30   \n",
       "\n",
       "  UniqueCarrier  FlightNum TailNum  ActualElapsedTime  CRSElapsedTime  \\\n",
       "0            CO       1811  N14336              159.0           173.0   \n",
       "1            WN        461  N477WN              157.0           170.0   \n",
       "2            EV       4601  N935EV               59.0            64.0   \n",
       "3            EV       4684  N889AS              124.0           136.0   \n",
       "4            WN       1236  N312SW              110.0           125.0   \n",
       "\n",
       "   AirTime  ArrDelay  DepDelay Origin Dest  Distance  TaxiIn  TaxiOut  \\\n",
       "0    145.0     -19.0      -5.0    CLE  RSW      1025     3.0     11.0   \n",
       "1    137.0     -13.0       0.0    BNA  DEN      1013     7.0     13.0   \n",
       "2     36.0      30.0      35.0    ATL  BQK       238     4.0     19.0   \n",
       "3    109.0     -19.0      -7.0    GRB  ATL       774     6.0      9.0   \n",
       "4     97.0      -9.0       6.0    BWI  JAX       663     5.0      8.0   \n",
       "\n",
       "   Cancelled CancellationCode  Diverted  CarrierDelay  WeatherDelay  NASDelay  \\\n",
       "0          0              NaN         0           0.0           0.0       0.0   \n",
       "1          0              NaN         0           0.0           0.0       0.0   \n",
       "2          0              NaN         0           0.0           0.0      30.0   \n",
       "3          0              NaN         0           0.0           0.0       0.0   \n",
       "4          0              NaN         0           0.0           0.0       0.0   \n",
       "\n",
       "   SecurityDelay  LateAircraftDelay  Late  \n",
       "0            0.0                0.0     0  \n",
       "1            0.0                0.0     0  \n",
       "2            0.0                0.0     0  \n",
       "3            0.0                0.0     0  \n",
       "4            0.0                0.0     0  "
      ]
     },
     "execution_count": 11,
     "metadata": {},
     "output_type": "execute_result"
    }
   ],
   "source": [
    "#Thêm cột 'Late' 0 -> NotLate; 1 -> Late\n",
    "conditions = [\n",
    "    (data['ArrDelay'] >30)]\n",
    "choices = [1]\n",
    "data['Late'] = np.select(conditions, choices, default=0)\n",
    "data.head()"
   ]
  },
  {
   "cell_type": "code",
   "execution_count": 12,
   "metadata": {
    "scrolled": true
   },
   "outputs": [
    {
     "data": {
      "text/plain": [
       "(45174, 30)"
      ]
     },
     "execution_count": 12,
     "metadata": {},
     "output_type": "execute_result"
    }
   ],
   "source": [
    "#DataLate chỉ gồm các dòng có giá trị Late = 1\n",
    "dataLate = data[data['Late'] ==1]\n",
    "dataLate.shape"
   ]
  },
  {
   "cell_type": "code",
   "execution_count": null,
   "metadata": {},
   "outputs": [],
   "source": []
  },
  {
   "cell_type": "code",
   "execution_count": 13,
   "metadata": {
    "scrolled": false
   },
   "outputs": [
    {
     "data": {
      "image/png": "[encoded data removed]",
      "text/plain": [
       "<matplotlib.figure.Figure at 0x23c008f97b8>"
      ]
     },
     "metadata": {},
     "output_type": "display_data"
    }
   ],
   "source": [
    "import seaborn as sns\n",
    "import matplotlib.pyplot as plt\n",
    "\n",
    "sns.set(style=\"white\")\n",
    "ax = sns.countplot(x='Month',data=data,hue='Late',dodge=False)\n",
    "ax.set_title('Number of Flights by Carrier and Cancellation Status')\n",
    "plt.show()"
   ]
  },
  {
   "cell_type": "code",
   "execution_count": 14,
   "metadata": {
    "collapsed": true
   },
   "outputs": [],
   "source": [
    "#tỉ lệ các chuyến bay đến muộn ở tháng 9, 10, 4, 5 ít hơn những tháng còn lạ"
   ]
  },
  {
   "cell_type": "code",
   "execution_count": 15,
   "metadata": {
    "scrolled": false
   },
   "outputs": [
    {
     "data": {
      "image/png": "[encoded data removed]",
      "text/plain": [
       "<matplotlib.figure.Figure at 0x23c0034a5c0>"
      ]
     },
     "metadata": {},
     "output_type": "display_data"
    }
   ],
   "source": [
    "ax = sns.countplot(x='DayOfWeek',data=data,hue='Late',dodge=False)\n",
    "ax.set_title('Number of Flights by Carrier and Cancellation Status')\n",
    "plt.show()"
   ]
  },
  {
   "cell_type": "code",
   "execution_count": 16,
   "metadata": {
    "collapsed": true
   },
   "outputs": [],
   "source": [
    "# ngày thứ 6 có tỉ lệ chuyến bay bị muộn cao hơn những ngày còn lại"
   ]
  },
  {
   "cell_type": "code",
   "execution_count": 17,
   "metadata": {
    "scrolled": false
   },
   "outputs": [
    {
     "data": {
      "image/png": "[encoded data removed]",
      "text/plain": [
       "<matplotlib.figure.Figure at 0x23c01ad05f8>"
      ]
     },
     "metadata": {},
     "output_type": "display_data"
    }
   ],
   "source": [
    "ax = sns.countplot(x='DayofMonth',data=data,hue='Late',dodge=False)\n",
    "ax.set_title('Number of Flights by Carrier and Cancellation Status')\n",
    "plt.show()"
   ]
  },
  {
   "cell_type": "code",
   "execution_count": 18,
   "metadata": {
    "collapsed": true
   },
   "outputs": [],
   "source": [
    "#tỉ lệ chuyeesn bay bị muộn giữa các ngày trong tháng không khác nhau nhiều, riêng các ngày 21, 22 cao hơn các ngày còn lại "
   ]
  },
  {
   "cell_type": "code",
   "execution_count": 19,
   "metadata": {
    "scrolled": false
   },
   "outputs": [
    {
     "data": {
      "image/png": "[encoded data removed]",
      "text/plain": [
       "<matplotlib.figure.Figure at 0x23c00824208>"
      ]
     },
     "metadata": {},
     "output_type": "display_data"
    }
   ],
   "source": [
    "ax = sns.countplot(x='UniqueCarrier',data=data,hue='Late',dodge=False)\n",
    "ax.set_title('Number of Flights by Carrier and Cancellation Status')\n",
    "plt.show()"
   ]
  },
  {
   "cell_type": "code",
   "execution_count": 20,
   "metadata": {
    "collapsed": true
   },
   "outputs": [],
   "source": [
    "#Chuyến bay có UniqueCarrier = WN có số lượng chuyến bay nhiều nhất và số lượng chuyến bay bị muộn cũng nhiều nhất"
   ]
  },
  {
   "cell_type": "code",
   "execution_count": 21,
   "metadata": {
    "scrolled": true
   },
   "outputs": [
    {
     "data": {
      "image/png": "[encoded data removed]",
      "text/plain": [
       "<matplotlib.figure.Figure at 0x23c011f5550>"
      ]
     },
     "metadata": {},
     "output_type": "display_data"
    }
   ],
   "source": [
    "ax = sns.boxplot(x='UniqueCarrier',y='ArrDelay',data=dataLate)\n",
    "ax.set_title('Comparison of Mean DepartureTime by UniqueCarrier')\n",
    "plt.show()"
   ]
  },
  {
   "cell_type": "code",
   "execution_count": 22,
   "metadata": {
    "collapsed": true
   },
   "outputs": [],
   "source": [
    "#các chuyến bay có UniqueCarrier = AQ có thời gian trễ rất thấp, chuyến bay trễ nhất thuộc về chuyến bay có UniqueCarrier = OO"
   ]
  },
  {
   "cell_type": "code",
   "execution_count": 23,
   "metadata": {
    "scrolled": true
   },
   "outputs": [
    {
     "data": {
      "text/html": [
       "<div>\n",
       "<style>\n",
       "    .dataframe thead tr:only-child th {\n",
       "        text-align: right;\n",
       "    }\n",
       "\n",
       "    .dataframe thead th {\n",
       "        text-align: left;\n",
       "    }\n",
       "\n",
       "    .dataframe tbody tr th {\n",
       "        vertical-align: top;\n",
       "    }\n",
       "</style>\n",
       "<table border=\"1\" class=\"dataframe\">\n",
       "  <thead>\n",
       "    <tr style=\"text-align: right;\">\n",
       "      <th></th>\n",
       "      <th>Year</th>\n",
       "      <th>Month</th>\n",
       "      <th>DayofMonth</th>\n",
       "      <th>DayOfWeek</th>\n",
       "      <th>DepTime</th>\n",
       "      <th>CRSDepTime</th>\n",
       "      <th>ArrTime</th>\n",
       "      <th>CRSArrTime</th>\n",
       "      <th>UniqueCarrier</th>\n",
       "      <th>FlightNum</th>\n",
       "      <th>TailNum</th>\n",
       "      <th>ActualElapsedTime</th>\n",
       "      <th>CRSElapsedTime</th>\n",
       "      <th>AirTime</th>\n",
       "      <th>ArrDelay</th>\n",
       "      <th>DepDelay</th>\n",
       "      <th>Origin</th>\n",
       "      <th>Dest</th>\n",
       "      <th>Distance</th>\n",
       "      <th>TaxiIn</th>\n",
       "      <th>TaxiOut</th>\n",
       "      <th>Cancelled</th>\n",
       "      <th>CancellationCode</th>\n",
       "      <th>Diverted</th>\n",
       "      <th>CarrierDelay</th>\n",
       "      <th>WeatherDelay</th>\n",
       "      <th>NASDelay</th>\n",
       "      <th>SecurityDelay</th>\n",
       "      <th>LateAircraftDelay</th>\n",
       "      <th>Late</th>\n",
       "      <th>hourDep</th>\n",
       "      <th>hourArr</th>\n",
       "    </tr>\n",
       "  </thead>\n",
       "  <tbody>\n",
       "    <tr>\n",
       "      <th>0</th>\n",
       "      <td>2008</td>\n",
       "      <td>3</td>\n",
       "      <td>28</td>\n",
       "      <td>5</td>\n",
       "      <td>9:20</td>\n",
       "      <td>9:25</td>\n",
       "      <td>11:59</td>\n",
       "      <td>12:18</td>\n",
       "      <td>CO</td>\n",
       "      <td>1811</td>\n",
       "      <td>N14336</td>\n",
       "      <td>159.0</td>\n",
       "      <td>173.0</td>\n",
       "      <td>145.0</td>\n",
       "      <td>-19.0</td>\n",
       "      <td>-5.0</td>\n",
       "      <td>CLE</td>\n",
       "      <td>RSW</td>\n",
       "      <td>1025</td>\n",
       "      <td>3.0</td>\n",
       "      <td>11.0</td>\n",
       "      <td>0</td>\n",
       "      <td>NaN</td>\n",
       "      <td>0</td>\n",
       "      <td>0.0</td>\n",
       "      <td>0.0</td>\n",
       "      <td>0.0</td>\n",
       "      <td>0.0</td>\n",
       "      <td>0.0</td>\n",
       "      <td>0</td>\n",
       "      <td>9</td>\n",
       "      <td>12</td>\n",
       "    </tr>\n",
       "    <tr>\n",
       "      <th>1</th>\n",
       "      <td>2008</td>\n",
       "      <td>6</td>\n",
       "      <td>26</td>\n",
       "      <td>4</td>\n",
       "      <td>10:5</td>\n",
       "      <td>10:5</td>\n",
       "      <td>11:42</td>\n",
       "      <td>11:55</td>\n",
       "      <td>WN</td>\n",
       "      <td>461</td>\n",
       "      <td>N477WN</td>\n",
       "      <td>157.0</td>\n",
       "      <td>170.0</td>\n",
       "      <td>137.0</td>\n",
       "      <td>-13.0</td>\n",
       "      <td>0.0</td>\n",
       "      <td>BNA</td>\n",
       "      <td>DEN</td>\n",
       "      <td>1013</td>\n",
       "      <td>7.0</td>\n",
       "      <td>13.0</td>\n",
       "      <td>0</td>\n",
       "      <td>NaN</td>\n",
       "      <td>0</td>\n",
       "      <td>0.0</td>\n",
       "      <td>0.0</td>\n",
       "      <td>0.0</td>\n",
       "      <td>0.0</td>\n",
       "      <td>0.0</td>\n",
       "      <td>0</td>\n",
       "      <td>10</td>\n",
       "      <td>11</td>\n",
       "    </tr>\n",
       "    <tr>\n",
       "      <th>2</th>\n",
       "      <td>2008</td>\n",
       "      <td>2</td>\n",
       "      <td>15</td>\n",
       "      <td>5</td>\n",
       "      <td>20:34</td>\n",
       "      <td>19:59</td>\n",
       "      <td>21:33</td>\n",
       "      <td>21:3</td>\n",
       "      <td>EV</td>\n",
       "      <td>4601</td>\n",
       "      <td>N935EV</td>\n",
       "      <td>59.0</td>\n",
       "      <td>64.0</td>\n",
       "      <td>36.0</td>\n",
       "      <td>30.0</td>\n",
       "      <td>35.0</td>\n",
       "      <td>ATL</td>\n",
       "      <td>BQK</td>\n",
       "      <td>238</td>\n",
       "      <td>4.0</td>\n",
       "      <td>19.0</td>\n",
       "      <td>0</td>\n",
       "      <td>NaN</td>\n",
       "      <td>0</td>\n",
       "      <td>0.0</td>\n",
       "      <td>0.0</td>\n",
       "      <td>30.0</td>\n",
       "      <td>0.0</td>\n",
       "      <td>0.0</td>\n",
       "      <td>0</td>\n",
       "      <td>19</td>\n",
       "      <td>21</td>\n",
       "    </tr>\n",
       "    <tr>\n",
       "      <th>3</th>\n",
       "      <td>2008</td>\n",
       "      <td>3</td>\n",
       "      <td>10</td>\n",
       "      <td>1</td>\n",
       "      <td>10:3</td>\n",
       "      <td>10:10</td>\n",
       "      <td>13:7</td>\n",
       "      <td>13:26</td>\n",
       "      <td>EV</td>\n",
       "      <td>4684</td>\n",
       "      <td>N889AS</td>\n",
       "      <td>124.0</td>\n",
       "      <td>136.0</td>\n",
       "      <td>109.0</td>\n",
       "      <td>-19.0</td>\n",
       "      <td>-7.0</td>\n",
       "      <td>GRB</td>\n",
       "      <td>ATL</td>\n",
       "      <td>774</td>\n",
       "      <td>6.0</td>\n",
       "      <td>9.0</td>\n",
       "      <td>0</td>\n",
       "      <td>NaN</td>\n",
       "      <td>0</td>\n",
       "      <td>0.0</td>\n",
       "      <td>0.0</td>\n",
       "      <td>0.0</td>\n",
       "      <td>0.0</td>\n",
       "      <td>0.0</td>\n",
       "      <td>0</td>\n",
       "      <td>10</td>\n",
       "      <td>13</td>\n",
       "    </tr>\n",
       "    <tr>\n",
       "      <th>4</th>\n",
       "      <td>2008</td>\n",
       "      <td>12</td>\n",
       "      <td>8</td>\n",
       "      <td>1</td>\n",
       "      <td>11:31</td>\n",
       "      <td>11:25</td>\n",
       "      <td>13:21</td>\n",
       "      <td>13:30</td>\n",
       "      <td>WN</td>\n",
       "      <td>1236</td>\n",
       "      <td>N312SW</td>\n",
       "      <td>110.0</td>\n",
       "      <td>125.0</td>\n",
       "      <td>97.0</td>\n",
       "      <td>-9.0</td>\n",
       "      <td>6.0</td>\n",
       "      <td>BWI</td>\n",
       "      <td>JAX</td>\n",
       "      <td>663</td>\n",
       "      <td>5.0</td>\n",
       "      <td>8.0</td>\n",
       "      <td>0</td>\n",
       "      <td>NaN</td>\n",
       "      <td>0</td>\n",
       "      <td>0.0</td>\n",
       "      <td>0.0</td>\n",
       "      <td>0.0</td>\n",
       "      <td>0.0</td>\n",
       "      <td>0.0</td>\n",
       "      <td>0</td>\n",
       "      <td>11</td>\n",
       "      <td>13</td>\n",
       "    </tr>\n",
       "  </tbody>\n",
       "</table>\n",
       "</div>"
      ],
      "text/plain": [
       "   Year  Month  DayofMonth  DayOfWeek DepTime CRSDepTime ArrTime CRSArrTime  \\\n",
       "0  2008      3          28          5    9:20       9:25   11:59      12:18   \n",
       "1  2008      6          26          4    10:5       10:5   11:42      11:55   \n",
       "2  2008      2          15          5   20:34      19:59   21:33       21:3   \n",
       "3  2008      3          10          1    10:3      10:10    13:7      13:26   \n",
       "4  2008     12           8          1   11:31      11:25   13:21      13:30   \n",
       "\n",
       "  UniqueCarrier  FlightNum TailNum  ActualElapsedTime  CRSElapsedTime  \\\n",
       "0            CO       1811  N14336              159.0           173.0   \n",
       "1            WN        461  N477WN              157.0           170.0   \n",
       "2            EV       4601  N935EV               59.0            64.0   \n",
       "3            EV       4684  N889AS              124.0           136.0   \n",
       "4            WN       1236  N312SW              110.0           125.0   \n",
       "\n",
       "   AirTime  ArrDelay  DepDelay Origin Dest  Distance  TaxiIn  TaxiOut  \\\n",
       "0    145.0     -19.0      -5.0    CLE  RSW      1025     3.0     11.0   \n",
       "1    137.0     -13.0       0.0    BNA  DEN      1013     7.0     13.0   \n",
       "2     36.0      30.0      35.0    ATL  BQK       238     4.0     19.0   \n",
       "3    109.0     -19.0      -7.0    GRB  ATL       774     6.0      9.0   \n",
       "4     97.0      -9.0       6.0    BWI  JAX       663     5.0      8.0   \n",
       "\n",
       "   Cancelled CancellationCode  Diverted  CarrierDelay  WeatherDelay  NASDelay  \\\n",
       "0          0              NaN         0           0.0           0.0       0.0   \n",
       "1          0              NaN         0           0.0           0.0       0.0   \n",
       "2          0              NaN         0           0.0           0.0      30.0   \n",
       "3          0              NaN         0           0.0           0.0       0.0   \n",
       "4          0              NaN         0           0.0           0.0       0.0   \n",
       "\n",
       "   SecurityDelay  LateAircraftDelay  Late hourDep hourArr  \n",
       "0            0.0                0.0     0       9      12  \n",
       "1            0.0                0.0     0      10      11  \n",
       "2            0.0                0.0     0      19      21  \n",
       "3            0.0                0.0     0      10      13  \n",
       "4            0.0                0.0     0      11      13  "
      ]
     },
     "execution_count": 23,
     "metadata": {},
     "output_type": "execute_result"
    }
   ],
   "source": [
    "data['hourDep'] = data['CRSDepTime'].str.split(':').str[0]\n",
    "data['hourArr'] = data['CRSArrTime'].str.split(':').str[0]\n",
    "data.head()"
   ]
  },
  {
   "cell_type": "code",
   "execution_count": 24,
   "metadata": {
    "scrolled": false
   },
   "outputs": [
    {
     "data": {
      "image/png": "[encoded data removed]",
      "text/plain": [
       "<matplotlib.figure.Figure at 0x23c725456a0>"
      ]
     },
     "metadata": {},
     "output_type": "display_data"
    }
   ],
   "source": [
    "data['hourDep'] = data['hourDep'].astype(int)\n",
    "ax = sns.countplot(x='hourDep',data=data,hue='Late',dodge=False)\n",
    "ax.set_title('Number of Flights by Carrier and Cancellation Status')\n",
    "plt.show()"
   ]
  },
  {
   "cell_type": "code",
   "execution_count": 25,
   "metadata": {
    "collapsed": true
   },
   "outputs": [],
   "source": [
    "#rất ít các chuyến bay trong thời gian từ 0h - 5h\n",
    "# nhìn chung số lượng các chuyến bay giảm dần từ 6h đến  4h nhưng số lượng các chuyến bay đến muộn lạ tăng"
   ]
  },
  {
   "cell_type": "code",
   "execution_count": 26,
   "metadata": {
    "scrolled": true
   },
   "outputs": [
    {
     "data": {
      "image/png": "[encoded data removed]",
      "text/plain": [
       "<matplotlib.figure.Figure at 0x23c1dbb9c88>"
      ]
     },
     "metadata": {},
     "output_type": "display_data"
    }
   ],
   "source": [
    "data['hourArr'] = data['hourArr'].astype(int)\n",
    "ax = sns.countplot(x='hourArr',data=data,hue='Late',dodge=False)\n",
    "ax.set_title('Number of Flights by Carrier and Cancellation Status')\n",
    "plt.show()"
   ]
  },
  {
   "cell_type": "code",
   "execution_count": 27,
   "metadata": {
    "collapsed": true
   },
   "outputs": [],
   "source": [
    "#tỉ lệ các chuyến bay có CRSArrtime() tăng dần từ 5h đến 23h"
   ]
  },
  {
   "cell_type": "code",
   "execution_count": 28,
   "metadata": {
    "scrolled": false
   },
   "outputs": [
    {
     "data": {
      "image/png": "[encoded data removed]",
      "text/plain": [
       "<matplotlib.figure.Figure at 0x23c1db88ac8>"
      ]
     },
     "metadata": {},
     "output_type": "display_data"
    }
   ],
   "source": [
    "ax = sns.boxplot(x='Late',y='Distance',data=data)\n",
    "ax.set_title('Comparison of Mean DepartureTime by UniqueCarrier')\n",
    "plt.show()"
   ]
  },
  {
   "cell_type": "code",
   "execution_count": null,
   "metadata": {
    "collapsed": true
   },
   "outputs": [],
   "source": []
  },
  {
   "cell_type": "code",
   "execution_count": 29,
   "metadata": {
    "scrolled": true
   },
   "outputs": [
    {
     "data": {
      "image/png": "[encoded data removed]",
      "text/plain": [
       "<matplotlib.figure.Figure at 0x23c1db18c50>"
      ]
     },
     "metadata": {},
     "output_type": "display_data"
    }
   ],
   "source": [
    "df = data[data.Diverted == 1]\n",
    "ax = sns.countplot(x='Diverted',data=df,hue='Late',dodge=False)\n",
    "ax.set_title('Number of Flights by Carrier and Cancellation Status')\n",
    "plt.show()"
   ]
  },
  {
   "cell_type": "code",
   "execution_count": 30,
   "metadata": {
    "collapsed": true
   },
   "outputs": [],
   "source": [
    "#các chuyến bay chuyển hướng đều tới muộn -> không dùng Diverted để train"
   ]
  },
  {
   "cell_type": "code",
   "execution_count": null,
   "metadata": {},
   "outputs": [],
   "source": []
  },
  {
   "cell_type": "code",
   "execution_count": 31,
   "metadata": {
    "scrolled": false
   },
   "outputs": [
    {
     "data": {
      "image/png": "[encoded data removed]",
      "text/plain": [
       "<matplotlib.figure.Figure at 0x23c1db1e470>"
      ]
     },
     "metadata": {},
     "output_type": "display_data"
    }
   ],
   "source": [
    "#lập biểu đồ heatmap\n",
    "from string import ascii_letters\n",
    "import numpy as np\n",
    "import pandas as pd\n",
    "import seaborn as sns\n",
    "import matplotlib.pyplot as plt\n",
    "\n",
    "sns.set(style=\"white\")\n",
    "\n",
    "# Generate a large random datase\n",
    "\n",
    "# Compute the correlation matrix\n",
    "corr = data.corr()\n",
    "\n",
    "# Generate a mask for the upper triangle\n",
    "mask = np.zeros_like(corr, dtype=np.bool)\n",
    "mask[np.triu_indices_from(mask)] = True\n",
    "\n",
    "# Set up the matplotlib figure\n",
    "f, ax = plt.subplots(figsize=(11, 9))\n",
    "\n",
    "# Generate a custom diverging colormap\n",
    "cmap = sns.diverging_palette(220, 10, as_cmap=True)\n",
    "\n",
    "# Draw the heatmap with the mask and correct aspect ratio\n",
    "sns.heatmap(corr, mask=mask, cmap=cmap, vmax=.8, center=0,\n",
    "            square=True, linewidths=.5, cbar_kws={\"shrink\": .5})\n",
    "plt.show()"
   ]
  },
  {
   "cell_type": "code",
   "execution_count": 32,
   "metadata": {
    "collapsed": true
   },
   "outputs": [],
   "source": [
    "#có những feature có sự tương quan rất mạnh \n",
    "# ArrDelay và DepDelay có sự tương quan mạnh -> các chuyến bay  do cất cánh trễ sẽ đến trễ hầu hết.\n",
    "# Giữa các cột Distance, ActuaElapseTime, CRSElapseTime có sự tương quan rất mạnh -> chỉ chọn cột Distance để train"
   ]
  },
  {
   "cell_type": "code",
   "execution_count": null,
   "metadata": {
    "collapsed": true
   },
   "outputs": [],
   "source": []
  },
  {
   "cell_type": "code",
   "execution_count": 33,
   "metadata": {
    "collapsed": true
   },
   "outputs": [],
   "source": [
    "#pd.get_dummies(data=da, columns=colstodummies)"
   ]
  },
  {
   "cell_type": "code",
   "execution_count": null,
   "metadata": {
    "collapsed": true
   },
   "outputs": [],
   "source": []
  },
  {
   "cell_type": "code",
   "execution_count": 34,
   "metadata": {
    "collapsed": true
   },
   "outputs": [],
   "source": [
    "datatrain, datatest, ytrain, ytest = train_test_split(data.drop('Late',axis = 1), data.Late, test_size = 0.2,random_state=42)\n"
   ]
  },
  {
   "cell_type": "code",
   "execution_count": 35,
   "metadata": {
    "collapsed": true
   },
   "outputs": [],
   "source": [
    "colstotrain = ['UniqueCarrier', 'Distance','TaxiIn',\"TaxiOut\"]\n",
    "colstodummies = ['UniqueCarrier']\n"
   ]
  },
  {
   "cell_type": "code",
   "execution_count": 36,
   "metadata": {
    "collapsed": true
   },
   "outputs": [],
   "source": [
    "Xtrain = datatrain[colstotrain]\n",
    "Xtrain = pd.get_dummies(data=Xtrain, columns=colstodummies)\n",
    "Xtest = datatest[colstotrain]\n",
    "Xtest = pd.get_dummies(data=Xtest, columns=colstodummies)"
   ]
  },
  {
   "cell_type": "code",
   "execution_count": 37,
   "metadata": {
    "scrolled": true
   },
   "outputs": [
    {
     "data": {
      "text/plain": [
       "LogisticRegression(C=1.0, class_weight=None, dual=False, fit_intercept=True,\n",
       "          intercept_scaling=1, max_iter=100, multi_class='ovr', n_jobs=1,\n",
       "          penalty='l2', random_state=None, solver='liblinear', tol=0.0001,\n",
       "          verbose=0, warm_start=False)"
      ]
     },
     "execution_count": 37,
     "metadata": {},
     "output_type": "execute_result"
    }
   ],
   "source": [
    "clf_lr = linear_model.LogisticRegression()\n",
    "clf_lr.fit(Xtrain, ytrain)\n"
   ]
  },
  {
   "cell_type": "code",
   "execution_count": 38,
   "metadata": {
    "collapsed": true
   },
   "outputs": [],
   "source": [
    "pr = clf_lr.predict(Xtest)"
   ]
  },
  {
   "cell_type": "code",
   "execution_count": null,
   "metadata": {
    "collapsed": true,
    "scrolled": true
   },
   "outputs": [],
   "source": []
  },
  {
   "cell_type": "code",
   "execution_count": 39,
   "metadata": {
    "scrolled": true
   },
   "outputs": [
    {
     "name": "stdout",
     "output_type": "stream",
     "text": [
      "             precision    recall  f1-score   support\n",
      "\n",
      "          0       0.88      1.00      0.93     59563\n",
      "          1       0.79      0.12      0.20      9030\n",
      "\n",
      "avg / total       0.87      0.88      0.84     68593\n",
      "\n"
     ]
    }
   ],
   "source": [
    "from sklearn.metrics import classification_report\n",
    "print(classification_report(ytest, pr))"
   ]
  },
  {
   "cell_type": "code",
   "execution_count": 40,
   "metadata": {},
   "outputs": [
    {
     "name": "stdout",
     "output_type": "stream",
     "text": [
      "predict: \n",
      " [[    0 67250]\n",
      " [    1  1343]]\n",
      "Actual: \n",
      " [[    0     1]\n",
      " [    1     1]\n",
      " [ 9030     1]\n",
      " [59563     1]]\n"
     ]
    }
   ],
   "source": [
    "from scipy.stats import itemfreq\n",
    "print(\"predict: \\n\", itemfreq(pr))\n",
    "print(\"Actual: \\n\", itemfreq(itemfreq(ytest)))\n"
   ]
  },
  {
   "cell_type": "code",
   "execution_count": 41,
   "metadata": {
    "scrolled": true
   },
   "outputs": [
    {
     "data": {
      "text/plain": [
       "array([[    0, 59563],\n",
       "       [    1,  9030]], dtype=int64)"
      ]
     },
     "execution_count": 41,
     "metadata": {},
     "output_type": "execute_result"
    }
   ],
   "source": [
    "itemfreq(ytest)"
   ]
  },
  {
   "cell_type": "code",
   "execution_count": 42,
   "metadata": {},
   "outputs": [
    {
     "data": {
      "text/plain": [
       "0.879681600163282"
      ]
     },
     "execution_count": 42,
     "metadata": {},
     "output_type": "execute_result"
    }
   ],
   "source": [
    "np.mean(pr == ytest)"
   ]
  },
  {
   "cell_type": "code",
   "execution_count": 43,
   "metadata": {
    "collapsed": true
   },
   "outputs": [],
   "source": [
    "colstotrain2 = [ 'Distance','CarrierDelay', 'WeatherDelay', 'NASDelay', 'SecurityDelay', 'LateAircraftDelay']"
   ]
  },
  {
   "cell_type": "code",
   "execution_count": 44,
   "metadata": {
    "collapsed": true
   },
   "outputs": [],
   "source": [
    "Xtrain = datatrain[colstotrain2]\n",
    "Xtest = datatest[colstotrain2]"
   ]
  },
  {
   "cell_type": "code",
   "execution_count": 45,
   "metadata": {
    "scrolled": false
   },
   "outputs": [
    {
     "name": "stdout",
     "output_type": "stream",
     "text": [
      "             precision    recall  f1-score   support\n",
      "\n",
      "          0       1.00      1.00      1.00     59563\n",
      "          1       1.00      1.00      1.00      9030\n",
      "\n",
      "avg / total       1.00      1.00      1.00     68593\n",
      "\n"
     ]
    }
   ],
   "source": [
    "clf_lr.fit(Xtrain, ytrain)\n",
    "pr = clf_lr.predict(Xtest)\n",
    "print(classification_report(ytest, pr))"
   ]
  },
  {
   "cell_type": "code",
   "execution_count": 46,
   "metadata": {
    "scrolled": true
   },
   "outputs": [
    {
     "name": "stdout",
     "output_type": "stream",
     "text": [
      "predict: \n",
      " [[    0 59581]\n",
      " [    1  9012]]\n",
      "Actual: \n",
      " [[    0     1]\n",
      " [    1     1]\n",
      " [ 9030     1]\n",
      " [59563     1]]\n"
     ]
    }
   ],
   "source": [
    "print(\"predict: \\n\", itemfreq(pr))\n",
    "print(\"Actual: \\n\", itemfreq(itemfreq(ytest)))"
   ]
  },
  {
   "cell_type": "code",
   "execution_count": 47,
   "metadata": {
    "collapsed": true
   },
   "outputs": [],
   "source": [
    "#Khi sử dụng các cột Delay để train model cho giá trị rất chính xác: > 99%. vì ArrDelay = sum(Delay) vì vậy không dùng các cột Delay\n",
    "# để train không mang tính khách quan"
   ]
  },
  {
   "cell_type": "code",
   "execution_count": 48,
   "metadata": {
    "collapsed": true
   },
   "outputs": [],
   "source": [
    "Xtrain = datatrain[colstotrain]\n",
    "Xtrain = pd.get_dummies(data=Xtrain, columns=colstodummies)\n",
    "Xtest = datatest[colstotrain]\n",
    "Xtest = pd.get_dummies(data=Xtest, columns=colstodummies)"
   ]
  },
  {
   "cell_type": "code",
   "execution_count": 49,
   "metadata": {
    "scrolled": true
   },
   "outputs": [
    {
     "data": {
      "text/plain": [
       "DecisionTreeClassifier(class_weight=None, criterion='entropy', max_depth=5,\n",
       "            max_features=None, max_leaf_nodes=None,\n",
       "            min_impurity_decrease=0.0, min_impurity_split=None,\n",
       "            min_samples_leaf=1, min_samples_split=2,\n",
       "            min_weight_fraction_leaf=0.0, presort=False, random_state=0,\n",
       "            splitter='best')"
      ]
     },
     "execution_count": 49,
     "metadata": {},
     "output_type": "execute_result"
    }
   ],
   "source": [
    "#dùng DecisionTreeClassifier\n",
    "from sklearn.model_selection import cross_val_score\n",
    "from sklearn.tree import DecisionTreeClassifier\n",
    "\n",
    "clf = DecisionTreeClassifier(criterion='entropy',random_state=0,max_depth=5)\n",
    "clf.fit(Xtrain,ytrain)"
   ]
  },
  {
   "cell_type": "code",
   "execution_count": 50,
   "metadata": {
    "collapsed": true
   },
   "outputs": [],
   "source": [
    "pr = clf.predict(Xtest)"
   ]
  },
  {
   "cell_type": "code",
   "execution_count": 51,
   "metadata": {},
   "outputs": [
    {
     "name": "stdout",
     "output_type": "stream",
     "text": [
      "             precision    recall  f1-score   support\n",
      "\n",
      "          0       0.88      0.99      0.93     59563\n",
      "          1       0.72      0.13      0.22      9030\n",
      "\n",
      "avg / total       0.86      0.88      0.84     68593\n",
      "\n"
     ]
    }
   ],
   "source": [
    "print(classification_report(ytest, pr))"
   ]
  },
  {
   "cell_type": "code",
   "execution_count": null,
   "metadata": {},
   "outputs": [],
   "source": [
    "\n",
    "\n"
   ]
  },
  {
   "cell_type": "code",
   "execution_count": 52,
   "metadata": {
    "scrolled": true
   },
   "outputs": [
    {
     "name": "stdout",
     "output_type": "stream",
     "text": [
      "             precision    recall  f1-score   support\n",
      "\n",
      "          0       0.88      0.90      0.89     59563\n",
      "          1       0.24      0.21      0.23      9030\n",
      "\n",
      "avg / total       0.80      0.81      0.80     68593\n",
      "\n"
     ]
    }
   ],
   "source": [
    "# dùng RandomForestClassifier\n",
    "from sklearn.ensemble import RandomForestClassifier\n",
    "\n",
    "\n",
    "rfc_model = RandomForestClassifier(n_estimators=100, random_state=888,class_weight='balanced')\n",
    "rfc_model.fit(Xtrain,ytrain)\n",
    "pr = rfc_model.predict(Xtest)\n",
    "print(classification_report(ytest, pr))"
   ]
  },
  {
   "cell_type": "code",
   "execution_count": null,
   "metadata": {
    "collapsed": true
   },
   "outputs": [],
   "source": []
  },
  {
   "cell_type": "code",
   "execution_count": 53,
   "metadata": {},
   "outputs": [
    {
     "name": "stdout",
     "output_type": "stream",
     "text": [
      "             precision    recall  f1-score   support\n",
      "\n",
      "          0       0.88      1.00      0.93     59563\n",
      "          1       0.79      0.12      0.20      9030\n",
      "\n",
      "avg / total       0.87      0.88      0.84     68593\n",
      "\n"
     ]
    }
   ],
   "source": [
    "# PCA + LogisticRegression\n",
    "from sklearn.preprocessing import StandardScaler\n",
    "sc = StandardScaler()\n",
    "X_train = sc.fit_transform(Xtrain)\n",
    "X_test = sc.transform(Xtest)\n",
    "\n",
    "# Applying PCA\n",
    "from sklearn.decomposition import PCA\n",
    "pca = PCA()\n",
    "X_train = pca.fit_transform(Xtrain)\n",
    "X_test = pca.transform(Xtest)\n",
    "explained_variance = pca.explained_variance_ratio_\n",
    "\n",
    "# Train Model with PCA\n",
    "clf_lr = linear_model.LogisticRegression()\n",
    "clf_lr.fit(X_train, ytrain)\n",
    "pr = clf_lr.predict(X_test)\n",
    "print(classification_report(ytest, pr))"
   ]
  },
  {
   "cell_type": "code",
   "execution_count": 54,
   "metadata": {},
   "outputs": [
    {
     "name": "stdout",
     "output_type": "stream",
     "text": [
      "             precision    recall  f1-score   support\n",
      "\n",
      "          0       0.88      0.91      0.90     59563\n",
      "          1       0.25      0.20      0.23      9030\n",
      "\n",
      "avg / total       0.80      0.82      0.81     68593\n",
      "\n"
     ]
    }
   ],
   "source": [
    "#PCA + RandomForestClassifier\n",
    "rfc_model.fit(X_train,ytrain)\n",
    "pr = rfc_model.predict(X_test)\n",
    "print(classification_report(ytest, pr))"
   ]
  },
  {
   "cell_type": "code",
   "execution_count": 55,
   "metadata": {},
   "outputs": [
    {
     "name": "stdout",
     "output_type": "stream",
     "text": [
      "             precision    recall  f1-score   support\n",
      "\n",
      "          0       0.90      0.82      0.86     59563\n",
      "          1       0.25      0.40      0.31      9030\n",
      "\n",
      "avg / total       0.81      0.76      0.78     68593\n",
      "\n"
     ]
    }
   ],
   "source": [
    "# RandomForestClassifier + KBest\n",
    "\n",
    "Xtrain = datatrain[colstotrain]\n",
    "Xtrain = pd.get_dummies(data=Xtrain, columns=colstodummies)\n",
    "Xtest = datatest[colstotrain]\n",
    "Xtest = pd.get_dummies(data=Xtest, columns=colstodummies)\n",
    "import numpy as np\n",
    "from sklearn.feature_selection import SelectKBest, f_classif\n",
    "kbest = SelectKBest( k = 3)\n",
    "X_train = kbest.fit_transform(Xtrain, ytrain)\n",
    "X_test = kbest.transform(Xtest)\n",
    "rfc_model.fit(X_train,ytrain)\n",
    "pr = rfc_model.predict(X_test)\n",
    "print(classification_report(ytest, pr))"
   ]
  },
  {
   "cell_type": "code",
   "execution_count": null,
   "metadata": {
    "collapsed": true
   },
   "outputs": [],
   "source": []
  },
  {
   "cell_type": "code",
   "execution_count": 56,
   "metadata": {},
   "outputs": [
    {
     "name": "stdout",
     "output_type": "stream",
     "text": [
      "             precision    recall  f1-score   support\n",
      "\n",
      "          0       0.88      1.00      0.93     59563\n",
      "          1       0.81      0.11      0.19      9030\n",
      "\n",
      "avg / total       0.87      0.88      0.84     68593\n",
      "\n"
     ]
    }
   ],
   "source": [
    "#KBest + LogisticRegression\n",
    "clf_lr = linear_model.LogisticRegression()\n",
    "clf_lr.fit(X_train, ytrain)\n",
    "pr = clf_lr.predict(X_test)\n",
    "print(classification_report(ytest, pr))"
   ]
  },
  {
   "cell_type": "code",
   "execution_count": 57,
   "metadata": {},
   "outputs": [
    {
     "name": "stdout",
     "output_type": "stream",
     "text": [
      "             precision    recall  f1-score   support\n",
      "\n",
      "          0       0.87      1.00      0.93     59563\n",
      "          1       0.00      0.00      0.00      9030\n",
      "\n",
      "avg / total       0.75      0.87      0.81     68593\n",
      "\n"
     ]
    },
    {
     "name": "stderr",
     "output_type": "stream",
     "text": [
      "C:\\ProgramData\\Anaconda3\\lib\\site-packages\\sklearn\\metrics\\classification.py:1135: UndefinedMetricWarning: Precision and F-score are ill-defined and being set to 0.0 in labels with no predicted samples.\n",
      "  'precision', 'predicted', average, warn_for)\n"
     ]
    }
   ],
   "source": [
    "# LogisticRegression + RFE\n",
    "from sklearn.feature_selection import RFE\n",
    "\n",
    "model = linear_model.LogisticRegression() # a sklean's classifier that has either 'coef_' or 'feature_importances_' attribute\n",
    "num_feature = 3 # say we want the top 10 features\n",
    "\n",
    "selector = RFE(model, num_feature, step=1)\n",
    "selector.fit(Xtrain, ytrain) # select features\n",
    "feature_selected = list(Xtrain.columns[selector.support_])\n",
    "\n",
    "model.fit(Xtrain[feature_selected], ytrain) # re-train a model using only selected features\n",
    "pr = model.predict(Xtest[feature_selected])\n",
    "print(classification_report(ytest, pr))"
   ]
  },
  {
   "cell_type": "code",
   "execution_count": 59,
   "metadata": {},
   "outputs": [
    {
     "name": "stdout",
     "output_type": "stream",
     "text": [
      "Confusion Matrix:\n",
      "[[59503    60]\n",
      " [ 8856   174]]\n",
      "\n",
      "Classification Report\n",
      "             precision    recall  f1-score   support\n",
      "\n",
      "          0       0.87      1.00      0.93     59563\n",
      "          1       0.74      0.02      0.04      9030\n",
      "\n",
      "avg / total       0.85      0.87      0.81     68593\n",
      "\n"
     ]
    }
   ],
   "source": [
    "from sklearn.ensemble import GradientBoostingClassifier\n",
    "gb = GradientBoostingClassifier(n_estimators=20, learning_rate = 0.5, max_features=2, max_depth = 2, random_state = 0)\n",
    "gb.fit(Xtrain, ytrain)\n",
    "predictions = gb.predict(Xtest)\n",
    "\n",
    "print(\"Confusion Matrix:\")\n",
    "print(confusion_matrix(ytest, predictions))\n",
    "print()\n",
    "print(\"Classification Report\")\n",
    "print(classification_report(ytest, predictions))"
   ]
  },
  {
   "cell_type": "code",
   "execution_count": null,
   "metadata": {
    "collapsed": true
   },
   "outputs": [],
   "source": [
    "# dùng svm\n",
    "from sklearn import svm\n",
    "clf = svm.SVC(kernel='linear', C=1E10)\n",
    "clf.fit(Xtrain,ytrain)\n",
    "pr = clf.predict(Xtest)\n",
    "print(classification_report(ytest, pr))"
   ]
  },
  {
   "cell_type": "markdown",
   "metadata": {},
   "source": [
    "# Nhận xét:\n",
    "- model sử dụng SVM và Randomforest chạy chậm hơn các model regression\n",
    "- model cho kết quả tốt nhất là KBest + LogisticRegression\n"
   ]
  }
 ],
 "metadata": {
  "kernelspec": {
   "display_name": "Python 3",
   "language": "python",
   "name": "python3"
  },
  "language_info": {
   "codemirror_mode": {
    "name": "ipython",
    "version": 3
   },
   "file_extension": ".py",
   "mimetype": "text/x-python",
   "name": "python",
   "nbconvert_exporter": "python",
   "pygments_lexer": "ipython3",
   "version": "3.6.3"
  }
 },
 "nbformat": 4,
 "nbformat_minor": 2
}
